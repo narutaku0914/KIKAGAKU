{
  "nbformat": 4,
  "nbformat_minor": 0,
  "metadata": {
    "colab": {
      "name": "kikagaku_ir1finetuning.ipynb",
      "provenance": [],
      "collapsed_sections": [],
      "machine_shape": "hm",
      "authorship_tag": "ABX9TyO0MokxUIg1wRaQDzWa2hpF",
      "include_colab_link": true
    },
    "kernelspec": {
      "name": "python3",
      "display_name": "Python 3"
    },
    "accelerator": "GPU"
  },
  "cells": [
    {
      "cell_type": "markdown",
      "metadata": {
        "id": "view-in-github",
        "colab_type": "text"
      },
      "source": [
        "<a href=\"https://colab.research.google.com/github/narutaku0914/KIKAGAKU/blob/master/kikagaku_ir1finetuning.ipynb\" target=\"_parent\"><img src=\"https://colab.research.google.com/assets/colab-badge.svg\" alt=\"Open In Colab\"/></a>"
      ]
    },
    {
      "cell_type": "markdown",
      "metadata": {
        "id": "Jo-om5p4d76t",
        "colab_type": "text"
      },
      "source": [
        "# ファインチューニング"
      ]
    },
    {
      "cell_type": "markdown",
      "metadata": {
        "id": "AfquoC4KrQAp",
        "colab_type": "text"
      },
      "source": [
        "ファインチューニング： 異なるDataSetで学習済みのモデルに関して一部または全部を再利用して新しいモデルを構築する<br>\n",
        "手持ちのデータセットのサンプル数が少なくても性能が向上する場合も！"
      ]
    },
    {
      "cell_type": "markdown",
      "metadata": {
        "id": "3BaOEshvfjHQ",
        "colab_type": "text"
      },
      "source": [
        "### 画像分類"
      ]
    },
    {
      "cell_type": "code",
      "metadata": {
        "id": "ZvfIvWxZfvSI",
        "colab_type": "code",
        "colab": {
          "base_uri": "https://localhost:8080/",
          "height": 564
        },
        "outputId": "5fd5813b-765f-44ec-9b36-c000b7456de5"
      },
      "source": [
        "import numpy as np\n",
        "import pandas as pd\n",
        "import matplotlib.pyplot as plt\n",
        "import cv2\n",
        "\n",
        "import tensorflow as tf\n",
        "\n",
        "# GPUが使用可能か確認\n",
        "from tensorflow.python.client import device_lib\n",
        "print(device_lib.list_local_devices())"
      ],
      "execution_count": null,
      "outputs": [
        {
          "output_type": "stream",
          "text": [
            "[name: \"/device:CPU:0\"\n",
            "device_type: \"CPU\"\n",
            "memory_limit: 268435456\n",
            "locality {\n",
            "}\n",
            "incarnation: 4495340325163811180\n",
            ", name: \"/device:XLA_CPU:0\"\n",
            "device_type: \"XLA_CPU\"\n",
            "memory_limit: 17179869184\n",
            "locality {\n",
            "}\n",
            "incarnation: 9431672644072165897\n",
            "physical_device_desc: \"device: XLA_CPU device\"\n",
            ", name: \"/device:XLA_GPU:0\"\n",
            "device_type: \"XLA_GPU\"\n",
            "memory_limit: 17179869184\n",
            "locality {\n",
            "}\n",
            "incarnation: 10359954917484987458\n",
            "physical_device_desc: \"device: XLA_GPU device\"\n",
            ", name: \"/device:GPU:0\"\n",
            "device_type: \"GPU\"\n",
            "memory_limit: 15701463552\n",
            "locality {\n",
            "  bus_id: 1\n",
            "  links {\n",
            "  }\n",
            "}\n",
            "incarnation: 2191762084586873608\n",
            "physical_device_desc: \"device: 0, name: Tesla P100-PCIE-16GB, pci bus id: 0000:00:04.0, compute capability: 6.0\"\n",
            "]\n"
          ],
          "name": "stdout"
        }
      ]
    },
    {
      "cell_type": "markdown",
      "metadata": {
        "id": "4x3J7R-JgVp6",
        "colab_type": "text"
      },
      "source": [
        "データセットの準備"
      ]
    },
    {
      "cell_type": "code",
      "metadata": {
        "id": "ZdOjo3J0gsRK",
        "colab_type": "code",
        "colab": {
          "base_uri": "https://localhost:8080/",
          "height": 68
        },
        "outputId": "1b31cf37-9342-441b-a0fa-e9ab74f95618"
      },
      "source": [
        "# Data setの読み込み\n",
        "train, test = tf.keras.datasets.cifar10.load_data()\n",
        "\n",
        "# 画像の情報\n",
        "train[0].shape, test[0].shape"
      ],
      "execution_count": null,
      "outputs": [
        {
          "output_type": "stream",
          "text": [
            "Downloading data from https://www.cs.toronto.edu/~kriz/cifar-10-python.tar.gz\n",
            "170500096/170498071 [==============================] - 3s 0us/step\n"
          ],
          "name": "stdout"
        },
        {
          "output_type": "execute_result",
          "data": {
            "text/plain": [
              "((50000, 32, 32, 3), (10000, 32, 32, 3))"
            ]
          },
          "metadata": {
            "tags": []
          },
          "execution_count": 2
        }
      ]
    },
    {
      "cell_type": "code",
      "metadata": {
        "id": "wkvVVDYQhBDy",
        "colab_type": "code",
        "colab": {
          "base_uri": "https://localhost:8080/",
          "height": 34
        },
        "outputId": "b85c2a76-d920-4b0b-e76e-4f5db31624fb"
      },
      "source": [
        "# ラベルの情報\n",
        "train[1].shape, test[1].shape"
      ],
      "execution_count": null,
      "outputs": [
        {
          "output_type": "execute_result",
          "data": {
            "text/plain": [
              "((50000, 1), (10000, 1))"
            ]
          },
          "metadata": {
            "tags": []
          },
          "execution_count": 3
        }
      ]
    },
    {
      "cell_type": "code",
      "metadata": {
        "id": "ZTedvYEVhN-e",
        "colab_type": "code",
        "colab": {}
      },
      "source": [
        "# 学習用データとテスト用に対し正規化\n",
        "x_tarin = train[0]/255\n",
        "x_test = test[0]/255\n",
        "\n",
        "# 目標値の切り分け\n",
        "t_train = train[1]\n",
        "t_test = test[1]\n",
        "\n",
        "# 32bitにキャスト\n",
        "x_train, x_test = x_tarin.astype('float32'), x_test.astype('float32')\n",
        "t_train, t_test = t_train.astype('int32'), t_test.astype('int32')"
      ],
      "execution_count": null,
      "outputs": []
    },
    {
      "cell_type": "markdown",
      "metadata": {
        "id": "i2U5wC2_k7Bq",
        "colab_type": "text"
      },
      "source": [
        "モデルの定義"
      ]
    },
    {
      "cell_type": "code",
      "metadata": {
        "id": "rs0O0azclIHy",
        "colab_type": "code",
        "colab": {}
      },
      "source": [
        "import os, random\n",
        "\n",
        "\n",
        "def reset_seed(seed=0):\n",
        "  os.environ['PYTHONHASHSEED'] = '0'\n",
        "  random.seed(seed)\n",
        "  np.random.seed(seed)\n",
        "  tf.random.set_seed(seed)"
      ],
      "execution_count": null,
      "outputs": []
    },
    {
      "cell_type": "code",
      "metadata": {
        "id": "z59o321Mlje9",
        "colab_type": "code",
        "colab": {}
      },
      "source": [
        "from tensorflow.keras import models, layers\n",
        "\n",
        "# シードの固定\n",
        "reset_seed(0)\n",
        "\n",
        "# モデルの構築\n",
        "model = models.Sequential([\n",
        "                           # 特徴量抽出\n",
        "                           layers.Conv2D(filters=3, kernel_size=(3,3), activation='relu', input_shape=(32,32,3)),\n",
        "                           layers.MaxPool2D(pool_size=(2,2)),\n",
        "                           # ベクトル化\n",
        "                           layers.Flatten(),\n",
        "                           # 識別\n",
        "                           layers.Dense(100, activation='relu'),\n",
        "                           layers.Dense(10, activation='softmax')\n",
        "])"
      ],
      "execution_count": null,
      "outputs": []
    },
    {
      "cell_type": "code",
      "metadata": {
        "id": "j4Qs-mbrm3Dh",
        "colab_type": "code",
        "colab": {
          "base_uri": "https://localhost:8080/",
          "height": 323
        },
        "outputId": "8d98e6a7-7577-4637-f001-d42e03bc1533"
      },
      "source": [
        "model.summary()"
      ],
      "execution_count": null,
      "outputs": [
        {
          "output_type": "stream",
          "text": [
            "Model: \"sequential\"\n",
            "_________________________________________________________________\n",
            "Layer (type)                 Output Shape              Param #   \n",
            "=================================================================\n",
            "conv2d (Conv2D)              (None, 30, 30, 3)         84        \n",
            "_________________________________________________________________\n",
            "max_pooling2d (MaxPooling2D) (None, 15, 15, 3)         0         \n",
            "_________________________________________________________________\n",
            "flatten (Flatten)            (None, 675)               0         \n",
            "_________________________________________________________________\n",
            "dense (Dense)                (None, 100)               67600     \n",
            "_________________________________________________________________\n",
            "dense_1 (Dense)              (None, 10)                1010      \n",
            "=================================================================\n",
            "Total params: 68,694\n",
            "Trainable params: 68,694\n",
            "Non-trainable params: 0\n",
            "_________________________________________________________________\n"
          ],
          "name": "stdout"
        }
      ]
    },
    {
      "cell_type": "code",
      "metadata": {
        "id": "mGnVxA3en3rK",
        "colab_type": "code",
        "colab": {}
      },
      "source": [
        "# optimaizerの設定\n",
        "optimizer = tf.keras.optimizers.Adam(lr=0.01)  # lr=learning rate\n",
        "\n",
        "# モデルのコンパイル\n",
        "model.compile(optimizer=optimizer,\n",
        "              loss='sparse_categorical_crossentropy',\n",
        "              metrics=['accuracy'])"
      ],
      "execution_count": null,
      "outputs": []
    },
    {
      "cell_type": "markdown",
      "metadata": {
        "id": "D-bZ4MrBoul6",
        "colab_type": "text"
      },
      "source": [
        "モデルの学習"
      ]
    },
    {
      "cell_type": "code",
      "metadata": {
        "id": "LH0HONwyoxRS",
        "colab_type": "code",
        "colab": {
          "base_uri": "https://localhost:8080/",
          "height": 1000
        },
        "outputId": "6c10ce08-30b4-4fdc-b9c0-5fef230cb9bd"
      },
      "source": [
        "history = model.fit(x_tarin, t_train,\n",
        "                    batch_size=4096,\n",
        "                    epochs=30,\n",
        "                    varldation_data=(x_test, t_test))"
      ],
      "execution_count": null,
      "outputs": [
        {
          "output_type": "stream",
          "text": [
            "Epoch 1/30\n",
            "13/13 [==============================] - 0s 22ms/step - loss: 2.1354 - accuracy: 0.2161\n",
            "Epoch 2/30\n",
            "13/13 [==============================] - 0s 19ms/step - loss: 1.8563 - accuracy: 0.3516\n",
            "Epoch 3/30\n",
            "13/13 [==============================] - 0s 20ms/step - loss: 1.6755 - accuracy: 0.4043\n",
            "Epoch 4/30\n",
            "13/13 [==============================] - 0s 20ms/step - loss: 1.5680 - accuracy: 0.4387\n",
            "Epoch 5/30\n",
            "13/13 [==============================] - 0s 20ms/step - loss: 1.4897 - accuracy: 0.4670\n",
            "Epoch 6/30\n",
            "13/13 [==============================] - 0s 19ms/step - loss: 1.4414 - accuracy: 0.4836\n",
            "Epoch 7/30\n",
            "13/13 [==============================] - 0s 19ms/step - loss: 1.3992 - accuracy: 0.5019\n",
            "Epoch 8/30\n",
            "13/13 [==============================] - 0s 19ms/step - loss: 1.3811 - accuracy: 0.5097\n",
            "Epoch 9/30\n",
            "13/13 [==============================] - 0s 19ms/step - loss: 1.3253 - accuracy: 0.5323\n",
            "Epoch 10/30\n",
            "13/13 [==============================] - 0s 20ms/step - loss: 1.2921 - accuracy: 0.5445\n",
            "Epoch 11/30\n",
            "13/13 [==============================] - 0s 20ms/step - loss: 1.2757 - accuracy: 0.5513\n",
            "Epoch 12/30\n",
            "13/13 [==============================] - 0s 20ms/step - loss: 1.2379 - accuracy: 0.5617\n",
            "Epoch 13/30\n",
            "13/13 [==============================] - 0s 20ms/step - loss: 1.2296 - accuracy: 0.5664\n",
            "Epoch 14/30\n",
            "13/13 [==============================] - 0s 19ms/step - loss: 1.2096 - accuracy: 0.5744\n",
            "Epoch 15/30\n",
            "13/13 [==============================] - 0s 20ms/step - loss: 1.1699 - accuracy: 0.5879\n",
            "Epoch 16/30\n",
            "13/13 [==============================] - 0s 19ms/step - loss: 1.1568 - accuracy: 0.5930\n",
            "Epoch 17/30\n",
            "13/13 [==============================] - 0s 19ms/step - loss: 1.1393 - accuracy: 0.5995\n",
            "Epoch 18/30\n",
            "13/13 [==============================] - 0s 20ms/step - loss: 1.1052 - accuracy: 0.6116\n",
            "Epoch 19/30\n",
            "13/13 [==============================] - 0s 19ms/step - loss: 1.0936 - accuracy: 0.6170\n",
            "Epoch 20/30\n",
            "13/13 [==============================] - 0s 20ms/step - loss: 1.0676 - accuracy: 0.6265\n",
            "Epoch 21/30\n",
            "13/13 [==============================] - 0s 20ms/step - loss: 1.0720 - accuracy: 0.6224\n",
            "Epoch 22/30\n",
            "13/13 [==============================] - 0s 20ms/step - loss: 1.0509 - accuracy: 0.6293\n",
            "Epoch 23/30\n",
            "13/13 [==============================] - 0s 19ms/step - loss: 1.0197 - accuracy: 0.6433\n",
            "Epoch 24/30\n",
            "13/13 [==============================] - 0s 20ms/step - loss: 1.0178 - accuracy: 0.6455\n",
            "Epoch 25/30\n",
            "13/13 [==============================] - 0s 20ms/step - loss: 1.0033 - accuracy: 0.6490\n",
            "Epoch 26/30\n",
            "13/13 [==============================] - 0s 19ms/step - loss: 0.9874 - accuracy: 0.6534\n",
            "Epoch 27/30\n",
            "13/13 [==============================] - 0s 19ms/step - loss: 0.9713 - accuracy: 0.6619\n",
            "Epoch 28/30\n",
            "13/13 [==============================] - 0s 19ms/step - loss: 0.9605 - accuracy: 0.6658\n",
            "Epoch 29/30\n",
            "13/13 [==============================] - 0s 20ms/step - loss: 0.9399 - accuracy: 0.6710\n",
            "Epoch 30/30\n",
            "13/13 [==============================] - 0s 18ms/step - loss: 0.9284 - accuracy: 0.6747\n"
          ],
          "name": "stdout"
        }
      ]
    },
    {
      "cell_type": "markdown",
      "metadata": {
        "id": "qt89F-I-pNcj",
        "colab_type": "text"
      },
      "source": [
        "### ファインチューニング"
      ]
    },
    {
      "cell_type": "markdown",
      "metadata": {
        "id": "PeRnldmlrFgY",
        "colab_type": "text"
      },
      "source": [
        "注意点<br>\n",
        "include_top = False で全結合層の除く<br>\n",
        "weights='imagenet'で重み引き継げる"
      ]
    },
    {
      "cell_type": "code",
      "metadata": {
        "id": "v2imm494sWxn",
        "colab_type": "code",
        "colab": {
          "base_uri": "https://localhost:8080/",
          "height": 71
        },
        "outputId": "980aadd6-d14a-44ca-f712-7122171b01f6"
      },
      "source": [
        "from tensorflow.keras.applications import resnet, VGG16\n",
        "\n",
        "# インスタンス化\n",
        "base_model = VGG16(input_shape=(224,224,3),\n",
        "                   include_top=False, weights='imagenet')"
      ],
      "execution_count": null,
      "outputs": [
        {
          "output_type": "stream",
          "text": [
            "Downloading data from https://storage.googleapis.com/tensorflow/keras-applications/vgg16/vgg16_weights_tf_dim_ordering_tf_kernels_notop.h5\n",
            "58892288/58889256 [==============================] - 0s 0us/step\n"
          ],
          "name": "stdout"
        }
      ]
    },
    {
      "cell_type": "code",
      "metadata": {
        "id": "FJx-vVxds7vr",
        "colab_type": "code",
        "colab": {
          "base_uri": "https://localhost:8080/",
          "height": 799
        },
        "outputId": "250468c6-e84c-43aa-acec-8e4b1e07c7a1"
      },
      "source": [
        "base_model.summary()"
      ],
      "execution_count": null,
      "outputs": [
        {
          "output_type": "stream",
          "text": [
            "Model: \"vgg16\"\n",
            "_________________________________________________________________\n",
            "Layer (type)                 Output Shape              Param #   \n",
            "=================================================================\n",
            "input_1 (InputLayer)         [(None, 224, 224, 3)]     0         \n",
            "_________________________________________________________________\n",
            "block1_conv1 (Conv2D)        (None, 224, 224, 64)      1792      \n",
            "_________________________________________________________________\n",
            "block1_conv2 (Conv2D)        (None, 224, 224, 64)      36928     \n",
            "_________________________________________________________________\n",
            "block1_pool (MaxPooling2D)   (None, 112, 112, 64)      0         \n",
            "_________________________________________________________________\n",
            "block2_conv1 (Conv2D)        (None, 112, 112, 128)     73856     \n",
            "_________________________________________________________________\n",
            "block2_conv2 (Conv2D)        (None, 112, 112, 128)     147584    \n",
            "_________________________________________________________________\n",
            "block2_pool (MaxPooling2D)   (None, 56, 56, 128)       0         \n",
            "_________________________________________________________________\n",
            "block3_conv1 (Conv2D)        (None, 56, 56, 256)       295168    \n",
            "_________________________________________________________________\n",
            "block3_conv2 (Conv2D)        (None, 56, 56, 256)       590080    \n",
            "_________________________________________________________________\n",
            "block3_conv3 (Conv2D)        (None, 56, 56, 256)       590080    \n",
            "_________________________________________________________________\n",
            "block3_pool (MaxPooling2D)   (None, 28, 28, 256)       0         \n",
            "_________________________________________________________________\n",
            "block4_conv1 (Conv2D)        (None, 28, 28, 512)       1180160   \n",
            "_________________________________________________________________\n",
            "block4_conv2 (Conv2D)        (None, 28, 28, 512)       2359808   \n",
            "_________________________________________________________________\n",
            "block4_conv3 (Conv2D)        (None, 28, 28, 512)       2359808   \n",
            "_________________________________________________________________\n",
            "block4_pool (MaxPooling2D)   (None, 14, 14, 512)       0         \n",
            "_________________________________________________________________\n",
            "block5_conv1 (Conv2D)        (None, 14, 14, 512)       2359808   \n",
            "_________________________________________________________________\n",
            "block5_conv2 (Conv2D)        (None, 14, 14, 512)       2359808   \n",
            "_________________________________________________________________\n",
            "block5_conv3 (Conv2D)        (None, 14, 14, 512)       2359808   \n",
            "_________________________________________________________________\n",
            "block5_pool (MaxPooling2D)   (None, 7, 7, 512)         0         \n",
            "=================================================================\n",
            "Total params: 14,714,688\n",
            "Trainable params: 14,714,688\n",
            "Non-trainable params: 0\n",
            "_________________________________________________________________\n"
          ],
          "name": "stdout"
        }
      ]
    },
    {
      "cell_type": "markdown",
      "metadata": {
        "id": "ky7BjC0EtViH",
        "colab_type": "text"
      },
      "source": [
        "全結合層抜いたため、maxpoolで終わっている"
      ]
    },
    {
      "cell_type": "code",
      "metadata": {
        "id": "fk_rnGxftd3X",
        "colab_type": "code",
        "colab": {}
      },
      "source": [
        "# ランダムにデータを取得\n",
        "# 学習用DataSet10000枚、テスト用５０００枚\n",
        "train_choice = np.random.randint(low=0, high=50000, size=10000)\n",
        "test_choice = np.random.randint(low=0, high=10000, size=5000)"
      ],
      "execution_count": null,
      "outputs": []
    },
    {
      "cell_type": "code",
      "metadata": {
        "id": "11cu-DTjvr9E",
        "colab_type": "code",
        "colab": {}
      },
      "source": [
        "# データの準備\n",
        "x_train = train[0][train_choice]\n",
        "x_test = test[0][test_choice]\n",
        "t_train = train[1][train_choice].astype('int32')\n",
        "t_test = test[1][test_choice].astype('int32')"
      ],
      "execution_count": null,
      "outputs": []
    },
    {
      "cell_type": "code",
      "metadata": {
        "id": "Tz8a3HtXyATh",
        "colab_type": "code",
        "colab": {
          "base_uri": "https://localhost:8080/",
          "height": 34
        },
        "outputId": "facfabf5-3729-48d8-9710-72b6d3f160c7"
      },
      "source": [
        "_train, _test =[], []\n",
        "\n",
        "# 画像サイズを224にリサイズして格納\n",
        "# 画像の引数(src), dsize:リサイズ後のサイズ\n",
        "for img in x_train:\n",
        "  _train.append(cv2.resize(src=img, dsize=(224,224)))\n",
        "\n",
        "for img in x_test:\n",
        "  _test.append(cv2.resize(src=img, dsize=(224,224)))\n",
        "\n",
        "# リストからndarrayに変換\n",
        "x_train = np.array(_train, dtype='float32')/255.0\n",
        "x_test = np.array(_test, dtype='float32')/255.0\n",
        "\n",
        "x_train.shape, x_test.shape"
      ],
      "execution_count": null,
      "outputs": [
        {
          "output_type": "execute_result",
          "data": {
            "text/plain": [
              "((10000, 224, 224, 3), (5000, 224, 224, 3))"
            ]
          },
          "metadata": {
            "tags": []
          },
          "execution_count": 14
        }
      ]
    },
    {
      "cell_type": "code",
      "metadata": {
        "id": "Z4GjFdQDypA9",
        "colab_type": "code",
        "colab": {}
      },
      "source": [
        "reset_seed(0)\n",
        "\n",
        "# モデルの定義\n",
        "finetuned_model = models.Sequential([\n",
        "                                     base_model,\n",
        "                                     layers.GlobalAveragePooling2D(),\n",
        "                                     layers.Dense(512, activation='relu'),\n",
        "                                     layers.Dense(10, activation='softmax')\n",
        "])"
      ],
      "execution_count": null,
      "outputs": []
    },
    {
      "cell_type": "code",
      "metadata": {
        "id": "v3rXkRjbzlxG",
        "colab_type": "code",
        "colab": {
          "base_uri": "https://localhost:8080/",
          "height": 289
        },
        "outputId": "bb5c9338-a774-4937-95c1-6ebd35e9b056"
      },
      "source": [
        "optimizer = tf.keras.optimizers.SGD(lr=0.01)\n",
        "\n",
        "# コンパイル\n",
        "finetuned_model.compile(\n",
        "    optimizer=optimizer,\n",
        "    loss='sparse_categorical_crossentropy',\n",
        "    metrics=['accuracy'])\n",
        "\n",
        "finetuned_model.summary()"
      ],
      "execution_count": null,
      "outputs": [
        {
          "output_type": "stream",
          "text": [
            "Model: \"sequential_1\"\n",
            "_________________________________________________________________\n",
            "Layer (type)                 Output Shape              Param #   \n",
            "=================================================================\n",
            "vgg16 (Model)                (None, 7, 7, 512)         14714688  \n",
            "_________________________________________________________________\n",
            "global_average_pooling2d (Gl (None, 512)               0         \n",
            "_________________________________________________________________\n",
            "dense_2 (Dense)              (None, 512)               262656    \n",
            "_________________________________________________________________\n",
            "dense_3 (Dense)              (None, 10)                5130      \n",
            "=================================================================\n",
            "Total params: 14,982,474\n",
            "Trainable params: 14,982,474\n",
            "Non-trainable params: 0\n",
            "_________________________________________________________________\n"
          ],
          "name": "stdout"
        }
      ]
    },
    {
      "cell_type": "code",
      "metadata": {
        "id": "gUOq7G0Z0T_P",
        "colab_type": "code",
        "colab": {
          "base_uri": "https://localhost:8080/",
          "height": 34
        },
        "outputId": "ce9fa187-c213-42c5-8023-eed88357dc01"
      },
      "source": [
        "# 学習\n",
        "loss, accuracy = finetuned_model.evaluate(x_test, t_test)"
      ],
      "execution_count": null,
      "outputs": [
        {
          "output_type": "stream",
          "text": [
            "157/157 [==============================] - 12s 79ms/step - loss: 2.4457 - accuracy: 0.0912\n"
          ],
          "name": "stdout"
        }
      ]
    },
    {
      "cell_type": "code",
      "metadata": {
        "id": "HxYb8B-X0jSt",
        "colab_type": "code",
        "colab": {
          "base_uri": "https://localhost:8080/",
          "height": 34
        },
        "outputId": "1f7cf199-3a4a-4fce-cd47-9192b909e3fa"
      },
      "source": [
        "print(f'loss: {loss}, accuracy:{accuracy}')"
      ],
      "execution_count": null,
      "outputs": [
        {
          "output_type": "stream",
          "text": [
            "loss: 2.445748805999756, accuracy:0.09120000153779984\n"
          ],
          "name": "stdout"
        }
      ]
    },
    {
      "cell_type": "code",
      "metadata": {
        "id": "fXgN41Xt1FdH",
        "colab_type": "code",
        "colab": {
          "base_uri": "https://localhost:8080/",
          "height": 377
        },
        "outputId": "a58c9700-b81c-47a1-84f5-b624140f04c1"
      },
      "source": [
        "history = finetuned_model.fit(x_train, t_train,\n",
        "                    batch_size=32,\n",
        "                    epochs=10,\n",
        "                    validation_data=(x_test, t_test))"
      ],
      "execution_count": null,
      "outputs": [
        {
          "output_type": "stream",
          "text": [
            "Epoch 1/10\n",
            "313/313 [==============================] - 81s 258ms/step - loss: 2.0530 - accuracy: 0.2428 - val_loss: 1.8061 - val_accuracy: 0.3080\n",
            "Epoch 2/10\n",
            "313/313 [==============================] - 80s 255ms/step - loss: 1.4142 - accuracy: 0.5034 - val_loss: 0.9599 - val_accuracy: 0.7054\n",
            "Epoch 3/10\n",
            "313/313 [==============================] - 80s 255ms/step - loss: 0.9718 - accuracy: 0.6630 - val_loss: 0.9580 - val_accuracy: 0.6446\n",
            "Epoch 4/10\n",
            "313/313 [==============================] - 80s 255ms/step - loss: 0.7039 - accuracy: 0.7642 - val_loss: 0.6660 - val_accuracy: 0.7670\n",
            "Epoch 5/10\n",
            "313/313 [==============================] - 80s 255ms/step - loss: 0.5548 - accuracy: 0.8145 - val_loss: 1.0574 - val_accuracy: 0.6274\n",
            "Epoch 6/10\n",
            "313/313 [==============================] - 80s 255ms/step - loss: 0.4387 - accuracy: 0.8508 - val_loss: 0.4770 - val_accuracy: 0.8350\n",
            "Epoch 7/10\n",
            "313/313 [==============================] - 80s 255ms/step - loss: 0.3430 - accuracy: 0.8813 - val_loss: 0.5243 - val_accuracy: 0.8182\n",
            "Epoch 8/10\n",
            "313/313 [==============================] - 80s 255ms/step - loss: 0.3078 - accuracy: 0.8990 - val_loss: 0.6811 - val_accuracy: 0.7754\n",
            "Epoch 9/10\n",
            "313/313 [==============================] - 80s 255ms/step - loss: 0.2124 - accuracy: 0.9290 - val_loss: 0.3773 - val_accuracy: 0.8764\n",
            "Epoch 10/10\n",
            "313/313 [==============================] - 80s 255ms/step - loss: 0.1855 - accuracy: 0.9373 - val_loss: 0.5560 - val_accuracy: 0.8238\n"
          ],
          "name": "stdout"
        }
      ]
    },
    {
      "cell_type": "code",
      "metadata": {
        "id": "3zNQkMLk7_1i",
        "colab_type": "code",
        "colab": {
          "base_uri": "https://localhost:8080/",
          "height": 142
        },
        "outputId": "cc2cea04-c4a0-48b6-a2d6-94f294c77470"
      },
      "source": [
        "# 予測精度の評価\n",
        "results = pd.DataFrame(history.history)\n",
        "results.tail(3)"
      ],
      "execution_count": null,
      "outputs": [
        {
          "output_type": "execute_result",
          "data": {
            "text/html": [
              "<div>\n",
              "<style scoped>\n",
              "    .dataframe tbody tr th:only-of-type {\n",
              "        vertical-align: middle;\n",
              "    }\n",
              "\n",
              "    .dataframe tbody tr th {\n",
              "        vertical-align: top;\n",
              "    }\n",
              "\n",
              "    .dataframe thead th {\n",
              "        text-align: right;\n",
              "    }\n",
              "</style>\n",
              "<table border=\"1\" class=\"dataframe\">\n",
              "  <thead>\n",
              "    <tr style=\"text-align: right;\">\n",
              "      <th></th>\n",
              "      <th>loss</th>\n",
              "      <th>accuracy</th>\n",
              "      <th>val_loss</th>\n",
              "      <th>val_accuracy</th>\n",
              "    </tr>\n",
              "  </thead>\n",
              "  <tbody>\n",
              "    <tr>\n",
              "      <th>7</th>\n",
              "      <td>0.307820</td>\n",
              "      <td>0.8990</td>\n",
              "      <td>0.681062</td>\n",
              "      <td>0.7754</td>\n",
              "    </tr>\n",
              "    <tr>\n",
              "      <th>8</th>\n",
              "      <td>0.212423</td>\n",
              "      <td>0.9290</td>\n",
              "      <td>0.377259</td>\n",
              "      <td>0.8764</td>\n",
              "    </tr>\n",
              "    <tr>\n",
              "      <th>9</th>\n",
              "      <td>0.185537</td>\n",
              "      <td>0.9373</td>\n",
              "      <td>0.556018</td>\n",
              "      <td>0.8238</td>\n",
              "    </tr>\n",
              "  </tbody>\n",
              "</table>\n",
              "</div>"
            ],
            "text/plain": [
              "       loss  accuracy  val_loss  val_accuracy\n",
              "7  0.307820    0.8990  0.681062        0.7754\n",
              "8  0.212423    0.9290  0.377259        0.8764\n",
              "9  0.185537    0.9373  0.556018        0.8238"
            ]
          },
          "metadata": {
            "tags": []
          },
          "execution_count": 20
        }
      ]
    },
    {
      "cell_type": "code",
      "metadata": {
        "id": "_ilUl5vTCWh7",
        "colab_type": "code",
        "colab": {
          "base_uri": "https://localhost:8080/",
          "height": 312
        },
        "outputId": "74c67764-084c-437b-b335-63832bd9f0fe"
      },
      "source": [
        "# 損失の可視化\n",
        "results[['loss', 'val_loss']].plot(title='loss')\n",
        "plt.xlabel('epochs')"
      ],
      "execution_count": null,
      "outputs": [
        {
          "output_type": "execute_result",
          "data": {
            "text/plain": [
              "Text(0.5, 0, 'epochs')"
            ]
          },
          "metadata": {
            "tags": []
          },
          "execution_count": 21
        },
        {
          "output_type": "display_data",
          "data": {
            "image/png": "[encoded data removed]",
            "text/plain": [
              "<Figure size 432x288 with 1 Axes>"
            ]
          },
          "metadata": {
            "tags": [],
            "needs_background": "light"
          }
        }
      ]
    },
    {
      "cell_type": "code",
      "metadata": {
        "id": "fTx7J1CiRM_d",
        "colab_type": "code",
        "colab": {
          "base_uri": "https://localhost:8080/",
          "height": 312
        },
        "outputId": "1f4c6ad2-074b-470c-e828-7574f0b3d443"
      },
      "source": [
        "# 正解率の可視化\n",
        "results[['accuracy', 'val_accuracy']].plot(title='accuracy')\n",
        "plt.xlabel('epochs')"
      ],
      "execution_count": null,
      "outputs": [
        {
          "output_type": "execute_result",
          "data": {
            "text/plain": [
              "Text(0.5, 0, 'epochs')"
            ]
          },
          "metadata": {
            "tags": []
          },
          "execution_count": 22
        },
        {
          "output_type": "display_data",
          "data": {
            "image/png": "[encoded data removed]",
            "text/plain": [
              "<Figure size 432x288 with 1 Axes>"
            ]
          },
          "metadata": {
            "tags": [],
            "needs_background": "light"
          }
        }
      ]
    },
    {
      "cell_type": "code",
      "metadata": {
        "id": "Au-uyidHRYLT",
        "colab_type": "code",
        "colab": {}
      },
      "source": [
        ""
      ],
      "execution_count": null,
      "outputs": []
    }
  ]
}