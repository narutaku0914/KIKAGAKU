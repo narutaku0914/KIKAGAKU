{
  "nbformat": 4,
  "nbformat_minor": 0,
  "metadata": {
    "colab": {
      "name": "kikagaku_dl1class.ipynb",
      "provenance": [],
      "collapsed_sections": [],
      "authorship_tag": "ABX9TyNoZb+pePt+KogSRZURVinq",
      "include_colab_link": true
    },
    "kernelspec": {
      "name": "python3",
      "display_name": "Python 3"
    }
  },
  "cells": [
    {
      "cell_type": "markdown",
      "metadata": {
        "id": "view-in-github",
        "colab_type": "text"
      },
      "source": [
        "<a href=\"https://colab.research.google.com/github/narutaku0914/KIKAGAKU/blob/master/kikagaku_dl1class.ipynb\" target=\"_parent\"><img src=\"https://colab.research.google.com/assets/colab-badge.svg\" alt=\"Open In Colab\"/></a>"
      ]
    },
    {
      "cell_type": "markdown",
      "metadata": {
        "id": "umKHPyrFf9nP",
        "colab_type": "text"
      },
      "source": [
        "# ニューラルネットワークの実装（分類）"
      ]
    },
    {
      "cell_type": "code",
      "metadata": {
        "id": "2svYskYv8w8L",
        "colab_type": "code",
        "colab": {
          "base_uri": "https://localhost:8080/",
          "height": 34
        },
        "outputId": "168bd48f-7b51-42d1-eb1b-041db1094254"
      },
      "source": [
        "import tensorflow as tf\n",
        "\n",
        "# バージョン確認\n",
        "print(tf.__version__)"
      ],
      "execution_count": null,
      "outputs": [
        {
          "output_type": "stream",
          "text": [
            "2.2.0\n"
          ],
          "name": "stdout"
        }
      ]
    },
    {
      "cell_type": "code",
      "metadata": {
        "id": "yGsHu0Mqd0yb",
        "colab_type": "code",
        "colab": {}
      },
      "source": [
        "import numpy as np\n",
        "import pandas as pd\n",
        "import matplotlib.pyplot as plt"
      ],
      "execution_count": null,
      "outputs": []
    },
    {
      "cell_type": "markdown",
      "metadata": {
        "id": "PJYjZRBieaHQ",
        "colab_type": "text"
      },
      "source": [
        "### DataSetの準備"
      ]
    },
    {
      "cell_type": "code",
      "metadata": {
        "id": "_aSxjbl6qsoR",
        "colab_type": "code",
        "colab": {
          "base_uri": "https://localhost:8080/",
          "height": 122
        },
        "outputId": "08b05024-6efd-41e9-fa34-c43872588723"
      },
      "source": [
        "from google.colab import drive\n",
        "drive.mount('/content/drive')"
      ],
      "execution_count": null,
      "outputs": [
        {
          "output_type": "stream",
          "text": [
            "Go to this URL in a browser: https://accounts.google.com/o/oauth2/auth?client_id=947318989803-6bn6qk8qdgf4n4g3pfee6491hc0brc4i.apps.googleusercontent.com&redirect_uri=urn%3aietf%3awg%3aoauth%3a2.0%3aoob&response_type=code&scope=email%20https%3a%2f%2fwww.googleapis.com%2fauth%2fdocs.test%20https%3a%2f%2fwww.googleapis.com%2fauth%2fdrive%20https%3a%2f%2fwww.googleapis.com%2fauth%2fdrive.photos.readonly%20https%3a%2f%2fwww.googleapis.com%2fauth%2fpeopleapi.readonly\n",
            "\n",
            "Enter your authorization code:\n",
            "··········\n",
            "Mounted at /content/drive\n"
          ],
          "name": "stdout"
        }
      ]
    },
    {
      "cell_type": "markdown",
      "metadata": {
        "id": "uEmJLyyCuBzY",
        "colab_type": "text"
      },
      "source": [
        "データセットの準備 (マウントしていないとき)\n",
        "from google.colab import files\n",
        "uploaded = files.upload()"
      ]
    },
    {
      "cell_type": "code",
      "metadata": {
        "id": "eF_qiO-CeN0b",
        "colab_type": "code",
        "colab": {
          "base_uri": "https://localhost:8080/",
          "height": 142
        },
        "outputId": "426ea85e-238d-48d9-e978-f9d01e9a3356"
      },
      "source": [
        "# 読み込み\n",
        "df = pd.read_csv('/content/drive/My Drive/KIKAGAKU/wine_class.csv')\n",
        "\n",
        "df.head(3)"
      ],
      "execution_count": null,
      "outputs": [
        {
          "output_type": "execute_result",
          "data": {
            "text/html": [
              "<div>\n",
              "<style scoped>\n",
              "    .dataframe tbody tr th:only-of-type {\n",
              "        vertical-align: middle;\n",
              "    }\n",
              "\n",
              "    .dataframe tbody tr th {\n",
              "        vertical-align: top;\n",
              "    }\n",
              "\n",
              "    .dataframe thead th {\n",
              "        text-align: right;\n",
              "    }\n",
              "</style>\n",
              "<table border=\"1\" class=\"dataframe\">\n",
              "  <thead>\n",
              "    <tr style=\"text-align: right;\">\n",
              "      <th></th>\n",
              "      <th>Class</th>\n",
              "      <th>Alcohol</th>\n",
              "      <th>Ash</th>\n",
              "      <th>Alcalinity of ash</th>\n",
              "      <th>Magnesium</th>\n",
              "      <th>Total phenols</th>\n",
              "      <th>Flavanoids</th>\n",
              "      <th>Nonflavanoid phenols</th>\n",
              "      <th>Color intensity</th>\n",
              "      <th>Hue</th>\n",
              "      <th>Proline</th>\n",
              "    </tr>\n",
              "  </thead>\n",
              "  <tbody>\n",
              "    <tr>\n",
              "      <th>0</th>\n",
              "      <td>1</td>\n",
              "      <td>14.23</td>\n",
              "      <td>2.43</td>\n",
              "      <td>15.6</td>\n",
              "      <td>127</td>\n",
              "      <td>2.80</td>\n",
              "      <td>3.06</td>\n",
              "      <td>0.28</td>\n",
              "      <td>5.64</td>\n",
              "      <td>1.04</td>\n",
              "      <td>1065</td>\n",
              "    </tr>\n",
              "    <tr>\n",
              "      <th>1</th>\n",
              "      <td>1</td>\n",
              "      <td>13.20</td>\n",
              "      <td>2.14</td>\n",
              "      <td>11.2</td>\n",
              "      <td>100</td>\n",
              "      <td>2.65</td>\n",
              "      <td>2.76</td>\n",
              "      <td>0.26</td>\n",
              "      <td>4.38</td>\n",
              "      <td>1.05</td>\n",
              "      <td>1050</td>\n",
              "    </tr>\n",
              "    <tr>\n",
              "      <th>2</th>\n",
              "      <td>1</td>\n",
              "      <td>13.16</td>\n",
              "      <td>2.67</td>\n",
              "      <td>18.6</td>\n",
              "      <td>101</td>\n",
              "      <td>2.80</td>\n",
              "      <td>3.24</td>\n",
              "      <td>0.30</td>\n",
              "      <td>5.68</td>\n",
              "      <td>1.03</td>\n",
              "      <td>1185</td>\n",
              "    </tr>\n",
              "  </tbody>\n",
              "</table>\n",
              "</div>"
            ],
            "text/plain": [
              "   Class  Alcohol   Ash  ...  Color intensity   Hue  Proline\n",
              "0      1    14.23  2.43  ...             5.64  1.04     1065\n",
              "1      1    13.20  2.14  ...             4.38  1.05     1050\n",
              "2      1    13.16  2.67  ...             5.68  1.03     1185\n",
              "\n",
              "[3 rows x 11 columns]"
            ]
          },
          "metadata": {
            "tags": []
          },
          "execution_count": 6
        }
      ]
    },
    {
      "cell_type": "markdown",
      "metadata": {
        "id": "BrrxNOtvfZZz",
        "colab_type": "text"
      },
      "source": [
        "入力変数と目的変数に切り分け"
      ]
    },
    {
      "cell_type": "code",
      "metadata": {
        "id": "6WGgOFfrfl6d",
        "colab_type": "code",
        "colab": {
          "base_uri": "https://localhost:8080/",
          "height": 159
        },
        "outputId": "5ac77395-5776-4b2e-f374-7baf711a82e5"
      },
      "source": [
        "# 目的変数\n",
        "t = df['Class']\n",
        "\n",
        "# 入力変数\n",
        "x = df.drop('Class', axis=1)\n",
        "\n",
        "x.head(3)"
      ],
      "execution_count": null,
      "outputs": [
        {
          "output_type": "execute_result",
          "data": {
            "text/html": [
              "<div>\n",
              "<style scoped>\n",
              "    .dataframe tbody tr th:only-of-type {\n",
              "        vertical-align: middle;\n",
              "    }\n",
              "\n",
              "    .dataframe tbody tr th {\n",
              "        vertical-align: top;\n",
              "    }\n",
              "\n",
              "    .dataframe thead th {\n",
              "        text-align: right;\n",
              "    }\n",
              "</style>\n",
              "<table border=\"1\" class=\"dataframe\">\n",
              "  <thead>\n",
              "    <tr style=\"text-align: right;\">\n",
              "      <th></th>\n",
              "      <th>Alcohol</th>\n",
              "      <th>Ash</th>\n",
              "      <th>Alcalinity of ash</th>\n",
              "      <th>Magnesium</th>\n",
              "      <th>Total phenols</th>\n",
              "      <th>Flavanoids</th>\n",
              "      <th>Nonflavanoid phenols</th>\n",
              "      <th>Color intensity</th>\n",
              "      <th>Hue</th>\n",
              "      <th>Proline</th>\n",
              "    </tr>\n",
              "  </thead>\n",
              "  <tbody>\n",
              "    <tr>\n",
              "      <th>0</th>\n",
              "      <td>14.23</td>\n",
              "      <td>2.43</td>\n",
              "      <td>15.6</td>\n",
              "      <td>127</td>\n",
              "      <td>2.80</td>\n",
              "      <td>3.06</td>\n",
              "      <td>0.28</td>\n",
              "      <td>5.64</td>\n",
              "      <td>1.04</td>\n",
              "      <td>1065</td>\n",
              "    </tr>\n",
              "    <tr>\n",
              "      <th>1</th>\n",
              "      <td>13.20</td>\n",
              "      <td>2.14</td>\n",
              "      <td>11.2</td>\n",
              "      <td>100</td>\n",
              "      <td>2.65</td>\n",
              "      <td>2.76</td>\n",
              "      <td>0.26</td>\n",
              "      <td>4.38</td>\n",
              "      <td>1.05</td>\n",
              "      <td>1050</td>\n",
              "    </tr>\n",
              "    <tr>\n",
              "      <th>2</th>\n",
              "      <td>13.16</td>\n",
              "      <td>2.67</td>\n",
              "      <td>18.6</td>\n",
              "      <td>101</td>\n",
              "      <td>2.80</td>\n",
              "      <td>3.24</td>\n",
              "      <td>0.30</td>\n",
              "      <td>5.68</td>\n",
              "      <td>1.03</td>\n",
              "      <td>1185</td>\n",
              "    </tr>\n",
              "  </tbody>\n",
              "</table>\n",
              "</div>"
            ],
            "text/plain": [
              "   Alcohol   Ash  Alcalinity of ash  ...  Color intensity   Hue  Proline\n",
              "0    14.23  2.43               15.6  ...             5.64  1.04     1065\n",
              "1    13.20  2.14               11.2  ...             4.38  1.05     1050\n",
              "2    13.16  2.67               18.6  ...             5.68  1.03     1185\n",
              "\n",
              "[3 rows x 10 columns]"
            ]
          },
          "metadata": {
            "tags": []
          },
          "execution_count": 40
        }
      ]
    },
    {
      "cell_type": "code",
      "metadata": {
        "id": "_EZ0iJP8f23k",
        "colab_type": "code",
        "colab": {
          "base_uri": "https://localhost:8080/",
          "height": 34
        },
        "outputId": "aab0ebdb-2a90-40b4-ab23-ce821f494223"
      },
      "source": [
        "# 形\n",
        "x.shape"
      ],
      "execution_count": null,
      "outputs": [
        {
          "output_type": "execute_result",
          "data": {
            "text/plain": [
              "(178, 10)"
            ]
          },
          "metadata": {
            "tags": []
          },
          "execution_count": 41
        }
      ]
    },
    {
      "cell_type": "markdown",
      "metadata": {
        "id": "w9XeteU5gFxQ",
        "colab_type": "text"
      },
      "source": [
        "(サンプル数, 入力変数)"
      ]
    },
    {
      "cell_type": "code",
      "metadata": {
        "id": "DIU9SATRgTme",
        "colab_type": "code",
        "colab": {
          "base_uri": "https://localhost:8080/",
          "height": 34
        },
        "outputId": "c05c13fd-3148-4e9d-e7c2-8d0931b4a0ea"
      },
      "source": [
        "type(x.values)  # .valuesでndarrayに変換 → 頻出！"
      ],
      "execution_count": null,
      "outputs": [
        {
          "output_type": "execute_result",
          "data": {
            "text/plain": [
              "numpy.ndarray"
            ]
          },
          "metadata": {
            "tags": []
          },
          "execution_count": 42
        }
      ]
    },
    {
      "cell_type": "code",
      "metadata": {
        "id": "6ORxDLCngk30",
        "colab_type": "code",
        "colab": {
          "base_uri": "https://localhost:8080/",
          "height": 34
        },
        "outputId": "bdcb584b-bbc3-46aa-8a24-18eb5dde1af9"
      },
      "source": [
        "# ユニークな数値を確認\n",
        "np.unique(t)"
      ],
      "execution_count": null,
      "outputs": [
        {
          "output_type": "execute_result",
          "data": {
            "text/plain": [
              "array([1, 2, 3])"
            ]
          },
          "metadata": {
            "tags": []
          },
          "execution_count": 43
        }
      ]
    },
    {
      "cell_type": "markdown",
      "metadata": {
        "id": "6BJgDwu8g93_",
        "colab_type": "text"
      },
      "source": [
        "目標値は0から始める必要あるため0,1,2に変える"
      ]
    },
    {
      "cell_type": "code",
      "metadata": {
        "id": "uCDLeKB2hGH-",
        "colab_type": "code",
        "colab": {}
      },
      "source": [
        "# 0start, ndarayに変換\n",
        "t = t.values -1\n",
        "x = x.values"
      ],
      "execution_count": null,
      "outputs": []
    },
    {
      "cell_type": "code",
      "metadata": {
        "id": "BlD7yUTGhWKB",
        "colab_type": "code",
        "colab": {
          "base_uri": "https://localhost:8080/",
          "height": 170
        },
        "outputId": "2bd4538a-0599-4b70-fcb3-9248c7c4a167"
      },
      "source": [
        "t, type(t)"
      ],
      "execution_count": null,
      "outputs": [
        {
          "output_type": "execute_result",
          "data": {
            "text/plain": [
              "(array([0, 0, 0, 0, 0, 0, 0, 0, 0, 0, 0, 0, 0, 0, 0, 0, 0, 0, 0, 0, 0, 0,\n",
              "        0, 0, 0, 0, 0, 0, 0, 0, 0, 0, 0, 0, 0, 0, 0, 0, 0, 0, 0, 0, 0, 0,\n",
              "        0, 0, 0, 0, 0, 0, 0, 0, 0, 0, 0, 0, 0, 0, 0, 1, 1, 1, 1, 1, 1, 1,\n",
              "        1, 1, 1, 1, 1, 1, 1, 1, 1, 1, 1, 1, 1, 1, 1, 1, 1, 1, 1, 1, 1, 1,\n",
              "        1, 1, 1, 1, 1, 1, 1, 1, 1, 1, 1, 1, 1, 1, 1, 1, 1, 1, 1, 1, 1, 1,\n",
              "        1, 1, 1, 1, 1, 1, 1, 1, 1, 1, 1, 1, 1, 1, 1, 1, 1, 1, 1, 1, 2, 2,\n",
              "        2, 2, 2, 2, 2, 2, 2, 2, 2, 2, 2, 2, 2, 2, 2, 2, 2, 2, 2, 2, 2, 2,\n",
              "        2, 2, 2, 2, 2, 2, 2, 2, 2, 2, 2, 2, 2, 2, 2, 2, 2, 2, 2, 2, 2, 2,\n",
              "        2, 2]), numpy.ndarray)"
            ]
          },
          "metadata": {
            "tags": []
          },
          "execution_count": 45
        }
      ]
    },
    {
      "cell_type": "code",
      "metadata": {
        "id": "NGy23kafhZVg",
        "colab_type": "code",
        "colab": {
          "base_uri": "https://localhost:8080/",
          "height": 238
        },
        "outputId": "728d2657-f6b1-4b8c-888a-d5c9fca2abc7"
      },
      "source": [
        "x"
      ],
      "execution_count": null,
      "outputs": [
        {
          "output_type": "execute_result",
          "data": {
            "text/plain": [
              "array([[1.423e+01, 2.430e+00, 1.560e+01, ..., 5.640e+00, 1.040e+00,\n",
              "        1.065e+03],\n",
              "       [1.320e+01, 2.140e+00, 1.120e+01, ..., 4.380e+00, 1.050e+00,\n",
              "        1.050e+03],\n",
              "       [1.316e+01, 2.670e+00, 1.860e+01, ..., 5.680e+00, 1.030e+00,\n",
              "        1.185e+03],\n",
              "       ...,\n",
              "       [1.327e+01, 2.260e+00, 2.000e+01, ..., 1.020e+01, 5.900e-01,\n",
              "        8.350e+02],\n",
              "       [1.317e+01, 2.370e+00, 2.000e+01, ..., 9.300e+00, 6.000e-01,\n",
              "        8.400e+02],\n",
              "       [1.413e+01, 2.740e+00, 2.450e+01, ..., 9.200e+00, 6.100e-01,\n",
              "        5.600e+02]])"
            ]
          },
          "metadata": {
            "tags": []
          },
          "execution_count": 46
        }
      ]
    },
    {
      "cell_type": "markdown",
      "metadata": {
        "id": "ZoqJf-Tphepy",
        "colab_type": "text"
      },
      "source": [
        "学習用とテスト用に分割"
      ]
    },
    {
      "cell_type": "code",
      "metadata": {
        "id": "kcvry7HEhqwc",
        "colab_type": "code",
        "colab": {
          "base_uri": "https://localhost:8080/",
          "height": 34
        },
        "outputId": "7f5e6bac-c08b-4b60-8870-47edfd92b796"
      },
      "source": [
        "from sklearn.model_selection import train_test_split\n",
        "\n",
        "# 分割\n",
        "x_train, x_test, t_train, t_test = train_test_split(x, t, train_size=0.7, random_state=0)\n",
        "\n",
        "x_train.shape, x_train.dtype, x_test.shape, x_test.dtype, "
      ],
      "execution_count": null,
      "outputs": [
        {
          "output_type": "execute_result",
          "data": {
            "text/plain": [
              "((124, 10), dtype('float64'), (54, 10), dtype('float64'))"
            ]
          },
          "metadata": {
            "tags": []
          },
          "execution_count": 47
        }
      ]
    },
    {
      "cell_type": "markdown",
      "metadata": {
        "id": "4hHSyI0HiSCr",
        "colab_type": "text"
      },
      "source": [
        "ニューラルネットワークの学習データのデータ型は 32 bit にするのが多い<br>\n",
        "64bit からデータ型を変更する処理 → キャスト"
      ]
    },
    {
      "cell_type": "code",
      "metadata": {
        "id": "4p72y91risQp",
        "colab_type": "code",
        "colab": {}
      },
      "source": [
        "# 32bitにキャスト tはint64なのでint32に\n",
        "x_train = np.array(x_train, np.float32)\n",
        "x_test = np.array(x_test, np.float32)\n",
        "t_train = np.array(t_train, np.int32)\n",
        "t_test = np.array(t_test, np.int32)"
      ],
      "execution_count": null,
      "outputs": []
    },
    {
      "cell_type": "markdown",
      "metadata": {
        "id": "qOaykeh5jWwq",
        "colab_type": "text"
      },
      "source": [
        "### モデルの定義"
      ]
    },
    {
      "cell_type": "code",
      "metadata": {
        "id": "dCUG1bQojcWj",
        "colab_type": "code",
        "colab": {}
      },
      "source": [
        "import os, random\n",
        "\n",
        "def reset_seed(seed=0):\n",
        "  '''それぞれseed固定'''\n",
        "  os.environ['PYTHONHASHSEED'] = '0'\n",
        "  random.seed(seed)\n",
        "  np.random.seed(seed)\n",
        "  tf.random.set_seed(seed)"
      ],
      "execution_count": null,
      "outputs": []
    },
    {
      "cell_type": "code",
      "metadata": {
        "id": "2mSxGJis2_Ii",
        "colab_type": "code",
        "colab": {}
      },
      "source": [
        "from tensorflow.keras import models, layers\n",
        "\n",
        "# seedの固定\n",
        "reset_seed(0)\n",
        "\n",
        "# モデルの構築　(全結合層と出力層)\n",
        "model = models.Sequential([\n",
        "                           layers.Dense(units=10, activation='relu', input_shape=(10,)),\n",
        "                           layers.Dense(units=3, activation='softmax')\n",
        "                           ])\n"
      ],
      "execution_count": null,
      "outputs": []
    },
    {
      "cell_type": "code",
      "metadata": {
        "id": "L5VMrPqOgBgK",
        "colab_type": "code",
        "colab": {}
      },
      "source": [
        "# 層を追加していくパターン\n",
        "# model = models.Sequential()\n",
        "# model.add(layers.Dense(...))"
      ],
      "execution_count": null,
      "outputs": []
    },
    {
      "cell_type": "code",
      "metadata": {
        "id": "9lNMlNpNhjW3",
        "colab_type": "code",
        "colab": {
          "base_uri": "https://localhost:8080/",
          "height": 54
        },
        "outputId": "61b2b0d6-03be-4bae-88c0-9f63942b4608"
      },
      "source": [
        "# モデルのコンパイル\n",
        "model.compile(optimizer='SGD', \n",
        "              loss='SparseCategoricalCrossentropy', \n",
        "              metrics=['accuracy'])\n",
        "\n",
        "'''\n",
        "分類で使う関数\n",
        "SGD:確率勾配降下法\n",
        "SCC: クロスエントロピー\n",
        "accuracy: 正解率\n",
        "\n",
        "optimize: Adam\n",
        "loss(回帰に場合): MeanSquaredError[MSE 平均二乗誤差]\n",
        "metrics(回帰): MeanAbsoluteError\n",
        "'''\n",
        "\n",
        "# こちらでも同じ\n",
        "# model.compile(optimizer=tf.keras.optimizers.SGD(),\n",
        "#                loss=tf.keras.losses.SparseCategoricalCrossentropy(),\n",
        "#                metrics=[tf.keras.metrics.Accuracy()])"
      ],
      "execution_count": null,
      "outputs": [
        {
          "output_type": "execute_result",
          "data": {
            "text/plain": [
              "'\\n分類で使う関数\\nSGD:確率勾配降下法\\nSCC: クロスエントロピー\\naccuracy: 正解率\\n\\noptimize: Adam\\nloss(回帰に場合): MeanSquaredError[MSE 平均二乗誤差]\\nmetrics(回帰): MeanAbsoluteError\\n'"
            ]
          },
          "metadata": {
            "tags": []
          },
          "execution_count": 52
        }
      ]
    },
    {
      "cell_type": "code",
      "metadata": {
        "id": "dTLBs7WAyroj",
        "colab_type": "code",
        "colab": {
          "base_uri": "https://localhost:8080/",
          "height": 377
        },
        "outputId": "8d278ca5-321e-418e-ac7b-74a6f89dd3c4"
      },
      "source": [
        "# モデルの学習\n",
        "history = model.fit(x_train, t_train,\n",
        "                    batch_size=10,\n",
        "                    epochs=10,\n",
        "                    validation_data=(x_test, t_test))\n",
        "\n",
        "# validation: 検証用データのパフォーマンスをモニタリング\n",
        "# epoch終わりに渡された推論モードでloss & metrics表示\n"
      ],
      "execution_count": null,
      "outputs": [
        {
          "output_type": "stream",
          "text": [
            "Epoch 1/10\n",
            "13/13 [==============================] - 0s 15ms/step - loss: 471.6185 - accuracy: 0.2984 - val_loss: 1.0985 - val_accuracy: 0.4074\n",
            "Epoch 2/10\n",
            "13/13 [==============================] - 0s 5ms/step - loss: 1.0977 - accuracy: 0.3952 - val_loss: 1.0978 - val_accuracy: 0.4074\n",
            "Epoch 3/10\n",
            "13/13 [==============================] - 0s 4ms/step - loss: 1.0979 - accuracy: 0.3952 - val_loss: 1.0975 - val_accuracy: 0.4074\n",
            "Epoch 4/10\n",
            "13/13 [==============================] - 0s 4ms/step - loss: 1.0976 - accuracy: 0.3952 - val_loss: 1.0973 - val_accuracy: 0.4074\n",
            "Epoch 5/10\n",
            "13/13 [==============================] - 0s 4ms/step - loss: 1.0960 - accuracy: 0.3952 - val_loss: 1.0969 - val_accuracy: 0.4074\n",
            "Epoch 6/10\n",
            "13/13 [==============================] - 0s 4ms/step - loss: 1.0952 - accuracy: 0.3952 - val_loss: 1.0966 - val_accuracy: 0.4074\n",
            "Epoch 7/10\n",
            "13/13 [==============================] - 0s 4ms/step - loss: 1.0954 - accuracy: 0.3952 - val_loss: 1.0964 - val_accuracy: 0.4074\n",
            "Epoch 8/10\n",
            "13/13 [==============================] - 0s 4ms/step - loss: 1.0955 - accuracy: 0.3952 - val_loss: 1.0962 - val_accuracy: 0.4074\n",
            "Epoch 9/10\n",
            "13/13 [==============================] - 0s 4ms/step - loss: 1.0948 - accuracy: 0.3952 - val_loss: 1.0961 - val_accuracy: 0.4074\n",
            "Epoch 10/10\n",
            "13/13 [==============================] - 0s 4ms/step - loss: 1.0946 - accuracy: 0.3952 - val_loss: 1.0959 - val_accuracy: 0.4074\n"
          ],
          "name": "stdout"
        }
      ]
    },
    {
      "cell_type": "markdown",
      "metadata": {
        "id": "rz5jKW-ozjrF",
        "colab_type": "text"
      },
      "source": [
        "学習済みモデルの精度を確認"
      ]
    },
    {
      "cell_type": "code",
      "metadata": {
        "id": "ib7Rr773zxn8",
        "colab_type": "code",
        "colab": {
          "base_uri": "https://localhost:8080/",
          "height": 697
        },
        "outputId": "ed3a7930-8f09-4f7a-8c83-22ead0102afe"
      },
      "source": [
        "# 学習過程\n",
        "history.history"
      ],
      "execution_count": null,
      "outputs": [
        {
          "output_type": "execute_result",
          "data": {
            "text/plain": [
              "{'accuracy': [0.2983871102333069,\n",
              "  0.39516130089759827,\n",
              "  0.39516130089759827,\n",
              "  0.39516130089759827,\n",
              "  0.39516130089759827,\n",
              "  0.39516130089759827,\n",
              "  0.39516130089759827,\n",
              "  0.39516130089759827,\n",
              "  0.39516130089759827,\n",
              "  0.39516130089759827],\n",
              " 'loss': [471.6185302734375,\n",
              "  1.09772527217865,\n",
              "  1.097879409790039,\n",
              "  1.0975836515426636,\n",
              "  1.0960195064544678,\n",
              "  1.0952260494232178,\n",
              "  1.0954293012619019,\n",
              "  1.0954753160476685,\n",
              "  1.094836950302124,\n",
              "  1.0945507287979126],\n",
              " 'val_accuracy': [0.40740740299224854,\n",
              "  0.40740740299224854,\n",
              "  0.40740740299224854,\n",
              "  0.40740740299224854,\n",
              "  0.40740740299224854,\n",
              "  0.40740740299224854,\n",
              "  0.40740740299224854,\n",
              "  0.40740740299224854,\n",
              "  0.40740740299224854,\n",
              "  0.40740740299224854],\n",
              " 'val_loss': [1.0984755754470825,\n",
              "  1.097844123840332,\n",
              "  1.0975297689437866,\n",
              "  1.0973148345947266,\n",
              "  1.096880555152893,\n",
              "  1.096563458442688,\n",
              "  1.0963560342788696,\n",
              "  1.0962423086166382,\n",
              "  1.0960789918899536,\n",
              "  1.095868706703186]}"
            ]
          },
          "metadata": {
            "tags": []
          },
          "execution_count": 54
        }
      ]
    },
    {
      "cell_type": "code",
      "metadata": {
        "id": "afJr-rtbz1GL",
        "colab_type": "code",
        "colab": {
          "base_uri": "https://localhost:8080/",
          "height": 204
        },
        "outputId": "a064eab1-3656-435b-93e1-4f08a558781c"
      },
      "source": [
        "result = pd.DataFrame(history.history)\n",
        "result.head()"
      ],
      "execution_count": null,
      "outputs": [
        {
          "output_type": "execute_result",
          "data": {
            "text/html": [
              "<div>\n",
              "<style scoped>\n",
              "    .dataframe tbody tr th:only-of-type {\n",
              "        vertical-align: middle;\n",
              "    }\n",
              "\n",
              "    .dataframe tbody tr th {\n",
              "        vertical-align: top;\n",
              "    }\n",
              "\n",
              "    .dataframe thead th {\n",
              "        text-align: right;\n",
              "    }\n",
              "</style>\n",
              "<table border=\"1\" class=\"dataframe\">\n",
              "  <thead>\n",
              "    <tr style=\"text-align: right;\">\n",
              "      <th></th>\n",
              "      <th>loss</th>\n",
              "      <th>accuracy</th>\n",
              "      <th>val_loss</th>\n",
              "      <th>val_accuracy</th>\n",
              "    </tr>\n",
              "  </thead>\n",
              "  <tbody>\n",
              "    <tr>\n",
              "      <th>0</th>\n",
              "      <td>471.618530</td>\n",
              "      <td>0.298387</td>\n",
              "      <td>1.098476</td>\n",
              "      <td>0.407407</td>\n",
              "    </tr>\n",
              "    <tr>\n",
              "      <th>1</th>\n",
              "      <td>1.097725</td>\n",
              "      <td>0.395161</td>\n",
              "      <td>1.097844</td>\n",
              "      <td>0.407407</td>\n",
              "    </tr>\n",
              "    <tr>\n",
              "      <th>2</th>\n",
              "      <td>1.097879</td>\n",
              "      <td>0.395161</td>\n",
              "      <td>1.097530</td>\n",
              "      <td>0.407407</td>\n",
              "    </tr>\n",
              "    <tr>\n",
              "      <th>3</th>\n",
              "      <td>1.097584</td>\n",
              "      <td>0.395161</td>\n",
              "      <td>1.097315</td>\n",
              "      <td>0.407407</td>\n",
              "    </tr>\n",
              "    <tr>\n",
              "      <th>4</th>\n",
              "      <td>1.096020</td>\n",
              "      <td>0.395161</td>\n",
              "      <td>1.096881</td>\n",
              "      <td>0.407407</td>\n",
              "    </tr>\n",
              "  </tbody>\n",
              "</table>\n",
              "</div>"
            ],
            "text/plain": [
              "         loss  accuracy  val_loss  val_accuracy\n",
              "0  471.618530  0.298387  1.098476      0.407407\n",
              "1    1.097725  0.395161  1.097844      0.407407\n",
              "2    1.097879  0.395161  1.097530      0.407407\n",
              "3    1.097584  0.395161  1.097315      0.407407\n",
              "4    1.096020  0.395161  1.096881      0.407407"
            ]
          },
          "metadata": {
            "tags": []
          },
          "execution_count": 55
        }
      ]
    },
    {
      "cell_type": "code",
      "metadata": {
        "id": "bdJ0DG7Q0DYz",
        "colab_type": "code",
        "colab": {
          "base_uri": "https://localhost:8080/",
          "height": 282
        },
        "outputId": "1db4c6a4-749a-4fe6-cba9-3dbf18418962"
      },
      "source": [
        "# 目的関数の値\n",
        "result[['loss', 'val_loss']].plot()"
      ],
      "execution_count": null,
      "outputs": [
        {
          "output_type": "execute_result",
          "data": {
            "text/plain": [
              "<matplotlib.axes._subplots.AxesSubplot at 0x7fd420d433c8>"
            ]
          },
          "metadata": {
            "tags": []
          },
          "execution_count": 56
        },
        {
          "output_type": "display_data",
          "data": {
            "image/png": "[encoded data removed]",
            "text/plain": [
              "<Figure size 432x288 with 1 Axes>"
            ]
          },
          "metadata": {
            "tags": [],
            "needs_background": "light"
          }
        }
      ]
    },
    {
      "cell_type": "code",
      "metadata": {
        "id": "CUUyrdZa0R-j",
        "colab_type": "code",
        "colab": {
          "base_uri": "https://localhost:8080/",
          "height": 282
        },
        "outputId": "c217385e-24a7-42b7-8c9e-abba0dacfc5f"
      },
      "source": [
        "# 正解率\n",
        "result[['accuracy', 'val_accuracy']].plot()"
      ],
      "execution_count": null,
      "outputs": [
        {
          "output_type": "execute_result",
          "data": {
            "text/plain": [
              "<matplotlib.axes._subplots.AxesSubplot at 0x7fd41fd87208>"
            ]
          },
          "metadata": {
            "tags": []
          },
          "execution_count": 57
        },
        {
          "output_type": "display_data",
          "data": {
            "image/png": "[encoded data removed]",
            "text/plain": [
              "<Figure size 432x288 with 1 Axes>"
            ]
          },
          "metadata": {
            "tags": [],
            "needs_background": "light"
          }
        }
      ]
    },
    {
      "cell_type": "markdown",
      "metadata": {
        "id": "zr_rQzlS0c8o",
        "colab_type": "text"
      },
      "source": [
        "### モデル精度の向上"
      ]
    },
    {
      "cell_type": "markdown",
      "metadata": {
        "id": "2Jq-_gFm0vy0",
        "colab_type": "text"
      },
      "source": [
        "Batch Normalization"
      ]
    },
    {
      "cell_type": "markdown",
      "metadata": {
        "id": "a_w9ojyj08pS",
        "colab_type": "text"
      },
      "source": [
        "ミニバッチごとに平均x\n",
        "​¯\n",
        "​​  と 標準偏差 σ を求め、\n",
        "\n",
        "\n",
        "\\begin{aligned} x_s &= \\frac{x-\\bar x}{\\sigma} \\\\\\\\ \\hat x &= \\alpha x_s + \\beta \\end{aligned}\n",
        "\n",
        "​​ \n",
        "\n",
        "\n",
        "のように x^へと各変数ごとに変換\n",
        "\n",
        "→ 平均β, 標準偏差α　となる変換"
      ]
    },
    {
      "cell_type": "markdown",
      "metadata": {
        "id": "713YZObl16cK",
        "colab_type": "text"
      },
      "source": [
        "実装としては、各バッチ毎に平均と標準偏差を定めて標準化を行うといった手法<br>\n",
        "これを層に加えることで各変数間のスケールによる差を吸収できる"
      ]
    },
    {
      "cell_type": "code",
      "metadata": {
        "id": "nA1biG8k3qfR",
        "colab_type": "code",
        "colab": {
          "base_uri": "https://localhost:8080/",
          "height": 1000
        },
        "outputId": "188488d6-e60b-4706-f173-73d8bea9a591"
      },
      "source": [
        "# シードの固定\n",
        "reset_seed(0)\n",
        "\n",
        "# モデルの構築(表記パターン2)\n",
        "model = tf.keras.models.Sequential([\n",
        "                                    tf.keras.layers.BatchNormalization(input_shape=(10,)),\n",
        "                                    tf.keras.layers.Dense(10, activation='relu'),\n",
        "                                    tf.keras.layers.Dense(3, activation='softmax')\n",
        "                                    ])\n",
        "\n",
        "# モデルのコンパイル\n",
        "model.compile(optimizer='SGD',\n",
        "              loss='SparseCategoricalCrossentropy',\n",
        "              metrics=['accuracy'])\n",
        "\n",
        "# モデルの学習\n",
        "history = model.fit(x_train, t_train,\n",
        "                    batch_size=10,\n",
        "                    epochs=50,\n",
        "                    validation_data=(x_test, t_test))"
      ],
      "execution_count": null,
      "outputs": [
        {
          "output_type": "stream",
          "text": [
            "Epoch 1/50\n",
            "13/13 [==============================] - 0s 11ms/step - loss: 1.1150 - accuracy: 0.4113 - val_loss: 5.8024 - val_accuracy: 0.2407\n",
            "Epoch 2/50\n",
            "13/13 [==============================] - 0s 4ms/step - loss: 0.9671 - accuracy: 0.5242 - val_loss: 4.1415 - val_accuracy: 0.3519\n",
            "Epoch 3/50\n",
            "13/13 [==============================] - 0s 4ms/step - loss: 0.8989 - accuracy: 0.6371 - val_loss: 3.5801 - val_accuracy: 0.5741\n",
            "Epoch 4/50\n",
            "13/13 [==============================] - 0s 4ms/step - loss: 0.8247 - accuracy: 0.6452 - val_loss: 3.2575 - val_accuracy: 0.5926\n",
            "Epoch 5/50\n",
            "13/13 [==============================] - 0s 4ms/step - loss: 0.8019 - accuracy: 0.6774 - val_loss: 3.0392 - val_accuracy: 0.5926\n",
            "Epoch 6/50\n",
            "13/13 [==============================] - 0s 4ms/step - loss: 0.6577 - accuracy: 0.8065 - val_loss: 2.7884 - val_accuracy: 0.5741\n",
            "Epoch 7/50\n",
            "13/13 [==============================] - 0s 4ms/step - loss: 0.5698 - accuracy: 0.8548 - val_loss: 2.5585 - val_accuracy: 0.5741\n",
            "Epoch 8/50\n",
            "13/13 [==============================] - 0s 4ms/step - loss: 0.5303 - accuracy: 0.8710 - val_loss: 2.3275 - val_accuracy: 0.5741\n",
            "Epoch 9/50\n",
            "13/13 [==============================] - 0s 5ms/step - loss: 0.4622 - accuracy: 0.8710 - val_loss: 2.0543 - val_accuracy: 0.5926\n",
            "Epoch 10/50\n",
            "13/13 [==============================] - 0s 4ms/step - loss: 0.5235 - accuracy: 0.8065 - val_loss: 1.8331 - val_accuracy: 0.5926\n",
            "Epoch 11/50\n",
            "13/13 [==============================] - 0s 4ms/step - loss: 0.4766 - accuracy: 0.8226 - val_loss: 1.5567 - val_accuracy: 0.5926\n",
            "Epoch 12/50\n",
            "13/13 [==============================] - 0s 4ms/step - loss: 0.4506 - accuracy: 0.8790 - val_loss: 1.3166 - val_accuracy: 0.6111\n",
            "Epoch 13/50\n",
            "13/13 [==============================] - 0s 4ms/step - loss: 0.3735 - accuracy: 0.9113 - val_loss: 1.0925 - val_accuracy: 0.6481\n",
            "Epoch 14/50\n",
            "13/13 [==============================] - 0s 5ms/step - loss: 0.3884 - accuracy: 0.9113 - val_loss: 0.9036 - val_accuracy: 0.6481\n",
            "Epoch 15/50\n",
            "13/13 [==============================] - 0s 5ms/step - loss: 0.3372 - accuracy: 0.9113 - val_loss: 0.7479 - val_accuracy: 0.6481\n",
            "Epoch 16/50\n",
            "13/13 [==============================] - 0s 4ms/step - loss: 0.4454 - accuracy: 0.8548 - val_loss: 0.6030 - val_accuracy: 0.7037\n",
            "Epoch 17/50\n",
            "13/13 [==============================] - 0s 4ms/step - loss: 0.3330 - accuracy: 0.9032 - val_loss: 0.4877 - val_accuracy: 0.8148\n",
            "Epoch 18/50\n",
            "13/13 [==============================] - 0s 4ms/step - loss: 0.3839 - accuracy: 0.8710 - val_loss: 0.4000 - val_accuracy: 0.8333\n",
            "Epoch 19/50\n",
            "13/13 [==============================] - 0s 4ms/step - loss: 0.4638 - accuracy: 0.8710 - val_loss: 0.3355 - val_accuracy: 0.8519\n",
            "Epoch 20/50\n",
            "13/13 [==============================] - 0s 4ms/step - loss: 0.2732 - accuracy: 0.9032 - val_loss: 0.2814 - val_accuracy: 0.9074\n",
            "Epoch 21/50\n",
            "13/13 [==============================] - 0s 4ms/step - loss: 0.2982 - accuracy: 0.9032 - val_loss: 0.2369 - val_accuracy: 0.9074\n",
            "Epoch 22/50\n",
            "13/13 [==============================] - 0s 4ms/step - loss: 0.4120 - accuracy: 0.9194 - val_loss: 0.2051 - val_accuracy: 0.9074\n",
            "Epoch 23/50\n",
            "13/13 [==============================] - 0s 4ms/step - loss: 0.3219 - accuracy: 0.9032 - val_loss: 0.1772 - val_accuracy: 0.9444\n",
            "Epoch 24/50\n",
            "13/13 [==============================] - 0s 4ms/step - loss: 0.3138 - accuracy: 0.9113 - val_loss: 0.1596 - val_accuracy: 0.9444\n",
            "Epoch 25/50\n",
            "13/13 [==============================] - 0s 4ms/step - loss: 0.3366 - accuracy: 0.8710 - val_loss: 0.1439 - val_accuracy: 0.9630\n",
            "Epoch 26/50\n",
            "13/13 [==============================] - 0s 4ms/step - loss: 0.2489 - accuracy: 0.9274 - val_loss: 0.1344 - val_accuracy: 0.9815\n",
            "Epoch 27/50\n",
            "13/13 [==============================] - 0s 4ms/step - loss: 0.3115 - accuracy: 0.8952 - val_loss: 0.1268 - val_accuracy: 0.9815\n",
            "Epoch 28/50\n",
            "13/13 [==============================] - 0s 4ms/step - loss: 0.2431 - accuracy: 0.9435 - val_loss: 0.1191 - val_accuracy: 0.9815\n",
            "Epoch 29/50\n",
            "13/13 [==============================] - 0s 4ms/step - loss: 0.2250 - accuracy: 0.9274 - val_loss: 0.1149 - val_accuracy: 0.9815\n",
            "Epoch 30/50\n",
            "13/13 [==============================] - 0s 4ms/step - loss: 0.2329 - accuracy: 0.9274 - val_loss: 0.1091 - val_accuracy: 0.9815\n",
            "Epoch 31/50\n",
            "13/13 [==============================] - 0s 4ms/step - loss: 0.2498 - accuracy: 0.9435 - val_loss: 0.1036 - val_accuracy: 0.9815\n",
            "Epoch 32/50\n",
            "13/13 [==============================] - 0s 6ms/step - loss: 0.2215 - accuracy: 0.9274 - val_loss: 0.0985 - val_accuracy: 0.9815\n",
            "Epoch 33/50\n",
            "13/13 [==============================] - 0s 5ms/step - loss: 0.1809 - accuracy: 0.9516 - val_loss: 0.0931 - val_accuracy: 1.0000\n",
            "Epoch 34/50\n",
            "13/13 [==============================] - 0s 4ms/step - loss: 0.2038 - accuracy: 0.9194 - val_loss: 0.0888 - val_accuracy: 1.0000\n",
            "Epoch 35/50\n",
            "13/13 [==============================] - 0s 4ms/step - loss: 0.2325 - accuracy: 0.9516 - val_loss: 0.0844 - val_accuracy: 1.0000\n",
            "Epoch 36/50\n",
            "13/13 [==============================] - 0s 4ms/step - loss: 0.2832 - accuracy: 0.9274 - val_loss: 0.0807 - val_accuracy: 1.0000\n",
            "Epoch 37/50\n",
            "13/13 [==============================] - 0s 4ms/step - loss: 0.1941 - accuracy: 0.9516 - val_loss: 0.0778 - val_accuracy: 1.0000\n",
            "Epoch 38/50\n",
            "13/13 [==============================] - 0s 4ms/step - loss: 0.2173 - accuracy: 0.9435 - val_loss: 0.0763 - val_accuracy: 1.0000\n",
            "Epoch 39/50\n",
            "13/13 [==============================] - 0s 4ms/step - loss: 0.2012 - accuracy: 0.9355 - val_loss: 0.0735 - val_accuracy: 1.0000\n",
            "Epoch 40/50\n",
            "13/13 [==============================] - 0s 5ms/step - loss: 0.2609 - accuracy: 0.9032 - val_loss: 0.0714 - val_accuracy: 1.0000\n",
            "Epoch 41/50\n",
            "13/13 [==============================] - 0s 4ms/step - loss: 0.3399 - accuracy: 0.9516 - val_loss: 0.0707 - val_accuracy: 1.0000\n",
            "Epoch 42/50\n",
            "13/13 [==============================] - 0s 4ms/step - loss: 0.1929 - accuracy: 0.9274 - val_loss: 0.0690 - val_accuracy: 1.0000\n",
            "Epoch 43/50\n",
            "13/13 [==============================] - 0s 4ms/step - loss: 0.1476 - accuracy: 0.9516 - val_loss: 0.0675 - val_accuracy: 1.0000\n",
            "Epoch 44/50\n",
            "13/13 [==============================] - 0s 4ms/step - loss: 0.1795 - accuracy: 0.9597 - val_loss: 0.0655 - val_accuracy: 1.0000\n",
            "Epoch 45/50\n",
            "13/13 [==============================] - 0s 4ms/step - loss: 0.2199 - accuracy: 0.9113 - val_loss: 0.0642 - val_accuracy: 1.0000\n",
            "Epoch 46/50\n",
            "13/13 [==============================] - 0s 4ms/step - loss: 0.3254 - accuracy: 0.8871 - val_loss: 0.0628 - val_accuracy: 1.0000\n",
            "Epoch 47/50\n",
            "13/13 [==============================] - 0s 5ms/step - loss: 0.2245 - accuracy: 0.9355 - val_loss: 0.0623 - val_accuracy: 1.0000\n",
            "Epoch 48/50\n",
            "13/13 [==============================] - 0s 4ms/step - loss: 0.1482 - accuracy: 0.9597 - val_loss: 0.0599 - val_accuracy: 1.0000\n",
            "Epoch 49/50\n",
            "13/13 [==============================] - 0s 4ms/step - loss: 0.2680 - accuracy: 0.9194 - val_loss: 0.0589 - val_accuracy: 1.0000\n",
            "Epoch 50/50\n",
            "13/13 [==============================] - 0s 5ms/step - loss: 0.2459 - accuracy: 0.9113 - val_loss: 0.0571 - val_accuracy: 1.0000\n"
          ],
          "name": "stdout"
        }
      ]
    },
    {
      "cell_type": "code",
      "metadata": {
        "id": "1G0zf-MR5tm5",
        "colab_type": "code",
        "colab": {
          "base_uri": "https://localhost:8080/",
          "height": 283
        },
        "outputId": "5faefdcd-b057-4468-ae7e-29e15aa8e953"
      },
      "source": [
        "# accuracyとlossをDataFrameに\n",
        "result_batchnorm = pd.DataFrame(history.history)\n",
        "\n",
        "# 目的関数の値\n",
        "result_batchnorm[['loss', 'val_loss']].plot()"
      ],
      "execution_count": null,
      "outputs": [
        {
          "output_type": "execute_result",
          "data": {
            "text/plain": [
              "<matplotlib.axes._subplots.AxesSubplot at 0x7fd423227668>"
            ]
          },
          "metadata": {
            "tags": []
          },
          "execution_count": 61
        },
        {
          "output_type": "display_data",
          "data": {
            "image/png": "[encoded data removed]",
            "text/plain": [
              "<Figure size 432x288 with 1 Axes>"
            ]
          },
          "metadata": {
            "tags": [],
            "needs_background": "light"
          }
        }
      ]
    },
    {
      "cell_type": "code",
      "metadata": {
        "id": "gBhISsl76VTC",
        "colab_type": "code",
        "colab": {
          "base_uri": "https://localhost:8080/",
          "height": 282
        },
        "outputId": "c18cbd09-069a-4390-b0a7-33fd2234b602"
      },
      "source": [
        "# 正解率\n",
        "result_batchnorm[['accuracy', 'val_accuracy']].plot()"
      ],
      "execution_count": null,
      "outputs": [
        {
          "output_type": "execute_result",
          "data": {
            "text/plain": [
              "<matplotlib.axes._subplots.AxesSubplot at 0x7fd4230fada0>"
            ]
          },
          "metadata": {
            "tags": []
          },
          "execution_count": 62
        },
        {
          "output_type": "display_data",
          "data": {
            "image/png": "[encoded data removed]",
            "text/plain": [
              "<Figure size 432x288 with 1 Axes>"
            ]
          },
          "metadata": {
            "tags": [],
            "needs_background": "light"
          }
        }
      ]
    },
    {
      "cell_type": "markdown",
      "metadata": {
        "id": "PazGlLNa6fIr",
        "colab_type": "text"
      },
      "source": [
        "### 学習済みモデルの保存と推論"
      ]
    },
    {
      "cell_type": "code",
      "metadata": {
        "id": "oWGDZlwy6uch",
        "colab_type": "code",
        "colab": {}
      },
      "source": [
        "# モデルの保存\n",
        "model.save(filepath='wine_model.h5', save_format='h5')\n",
        "\n",
        "# save_formatはHDF5 or Saved Modelを指定"
      ],
      "execution_count": null,
      "outputs": []
    },
    {
      "cell_type": "code",
      "metadata": {
        "id": "tclj37007OTa",
        "colab_type": "code",
        "colab": {}
      },
      "source": [
        "# ロード\n",
        "loaded_model = tf.keras.models.load_model('wine_model.h5')"
      ],
      "execution_count": null,
      "outputs": []
    },
    {
      "cell_type": "markdown",
      "metadata": {
        "id": "piSj5tRa7cd7",
        "colab_type": "text"
      },
      "source": [
        "予測値の計算"
      ]
    },
    {
      "cell_type": "code",
      "metadata": {
        "id": "5XGbBgX-7lXl",
        "colab_type": "code",
        "colab": {
          "base_uri": "https://localhost:8080/",
          "height": 34
        },
        "outputId": "17cf4b04-ae52-4161-a594-773f37287fe6"
      },
      "source": [
        "# データの準備\n",
        "sample = x_train[0]\n",
        "sample.shape"
      ],
      "execution_count": null,
      "outputs": [
        {
          "output_type": "execute_result",
          "data": {
            "text/plain": [
              "(10,)"
            ]
          },
          "metadata": {
            "tags": []
          },
          "execution_count": 65
        }
      ]
    },
    {
      "cell_type": "code",
      "metadata": {
        "id": "HlWniwJj7sR2",
        "colab_type": "code",
        "colab": {
          "base_uri": "https://localhost:8080/",
          "height": 620
        },
        "outputId": "fefb1035-25ee-4444-cc6b-ba55dbb4a080"
      },
      "source": [
        "# 予測値の計算\n",
        "loaded_model.predict(sample)"
      ],
      "execution_count": null,
      "outputs": [
        {
          "output_type": "error",
          "ename": "ValueError",
          "evalue": "ignored",
          "traceback": [
            "\u001b[0;31m---------------------------------------------------------------------------\u001b[0m",
            "\u001b[0;31mValueError\u001b[0m                                Traceback (most recent call last)",
            "\u001b[0;32m<ipython-input-66-b1f9cfbff078>\u001b[0m in \u001b[0;36m<module>\u001b[0;34m()\u001b[0m\n\u001b[0;32m----> 1\u001b[0;31m \u001b[0mloaded_model\u001b[0m\u001b[0;34m.\u001b[0m\u001b[0mpredict\u001b[0m\u001b[0;34m(\u001b[0m\u001b[0msample\u001b[0m\u001b[0;34m)\u001b[0m\u001b[0;34m\u001b[0m\u001b[0;34m\u001b[0m\u001b[0m\n\u001b[0m",
            "\u001b[0;32m/usr/local/lib/python3.6/dist-packages/tensorflow/python/keras/engine/training.py\u001b[0m in \u001b[0;36m_method_wrapper\u001b[0;34m(self, *args, **kwargs)\u001b[0m\n\u001b[1;32m     86\u001b[0m       raise ValueError('{} is not supported in multi-worker mode.'.format(\n\u001b[1;32m     87\u001b[0m           method.__name__))\n\u001b[0;32m---> 88\u001b[0;31m     \u001b[0;32mreturn\u001b[0m \u001b[0mmethod\u001b[0m\u001b[0;34m(\u001b[0m\u001b[0mself\u001b[0m\u001b[0;34m,\u001b[0m \u001b[0;34m*\u001b[0m\u001b[0margs\u001b[0m\u001b[0;34m,\u001b[0m \u001b[0;34m**\u001b[0m\u001b[0mkwargs\u001b[0m\u001b[0;34m)\u001b[0m\u001b[0;34m\u001b[0m\u001b[0;34m\u001b[0m\u001b[0m\n\u001b[0m\u001b[1;32m     89\u001b[0m \u001b[0;34m\u001b[0m\u001b[0m\n\u001b[1;32m     90\u001b[0m   return tf_decorator.make_decorator(\n",
            "\u001b[0;32m/usr/local/lib/python3.6/dist-packages/tensorflow/python/keras/engine/training.py\u001b[0m in \u001b[0;36mpredict\u001b[0;34m(self, x, batch_size, verbose, steps, callbacks, max_queue_size, workers, use_multiprocessing)\u001b[0m\n\u001b[1;32m   1269\u001b[0m           \u001b[0;32mfor\u001b[0m \u001b[0mstep\u001b[0m \u001b[0;32min\u001b[0m \u001b[0mdata_handler\u001b[0m\u001b[0;34m.\u001b[0m\u001b[0msteps\u001b[0m\u001b[0;34m(\u001b[0m\u001b[0;34m)\u001b[0m\u001b[0;34m:\u001b[0m\u001b[0;34m\u001b[0m\u001b[0;34m\u001b[0m\u001b[0m\n\u001b[1;32m   1270\u001b[0m             \u001b[0mcallbacks\u001b[0m\u001b[0;34m.\u001b[0m\u001b[0mon_predict_batch_begin\u001b[0m\u001b[0;34m(\u001b[0m\u001b[0mstep\u001b[0m\u001b[0;34m)\u001b[0m\u001b[0;34m\u001b[0m\u001b[0;34m\u001b[0m\u001b[0m\n\u001b[0;32m-> 1271\u001b[0;31m             \u001b[0mtmp_batch_outputs\u001b[0m \u001b[0;34m=\u001b[0m \u001b[0mpredict_function\u001b[0m\u001b[0;34m(\u001b[0m\u001b[0miterator\u001b[0m\u001b[0;34m)\u001b[0m\u001b[0;34m\u001b[0m\u001b[0;34m\u001b[0m\u001b[0m\n\u001b[0m\u001b[1;32m   1272\u001b[0m             \u001b[0;31m# Catch OutOfRangeError for Datasets of unknown size.\u001b[0m\u001b[0;34m\u001b[0m\u001b[0;34m\u001b[0m\u001b[0;34m\u001b[0m\u001b[0m\n\u001b[1;32m   1273\u001b[0m             \u001b[0;31m# This blocks until the batch has finished executing.\u001b[0m\u001b[0;34m\u001b[0m\u001b[0;34m\u001b[0m\u001b[0;34m\u001b[0m\u001b[0m\n",
            "\u001b[0;32m/usr/local/lib/python3.6/dist-packages/tensorflow/python/eager/def_function.py\u001b[0m in \u001b[0;36m__call__\u001b[0;34m(self, *args, **kwds)\u001b[0m\n\u001b[1;32m    578\u001b[0m         \u001b[0mxla_context\u001b[0m\u001b[0;34m.\u001b[0m\u001b[0mExit\u001b[0m\u001b[0;34m(\u001b[0m\u001b[0;34m)\u001b[0m\u001b[0;34m\u001b[0m\u001b[0;34m\u001b[0m\u001b[0m\n\u001b[1;32m    579\u001b[0m     \u001b[0;32melse\u001b[0m\u001b[0;34m:\u001b[0m\u001b[0;34m\u001b[0m\u001b[0;34m\u001b[0m\u001b[0m\n\u001b[0;32m--> 580\u001b[0;31m       \u001b[0mresult\u001b[0m \u001b[0;34m=\u001b[0m \u001b[0mself\u001b[0m\u001b[0;34m.\u001b[0m\u001b[0m_call\u001b[0m\u001b[0;34m(\u001b[0m\u001b[0;34m*\u001b[0m\u001b[0margs\u001b[0m\u001b[0;34m,\u001b[0m \u001b[0;34m**\u001b[0m\u001b[0mkwds\u001b[0m\u001b[0;34m)\u001b[0m\u001b[0;34m\u001b[0m\u001b[0;34m\u001b[0m\u001b[0m\n\u001b[0m\u001b[1;32m    581\u001b[0m \u001b[0;34m\u001b[0m\u001b[0m\n\u001b[1;32m    582\u001b[0m     \u001b[0;32mif\u001b[0m \u001b[0mtracing_count\u001b[0m \u001b[0;34m==\u001b[0m \u001b[0mself\u001b[0m\u001b[0;34m.\u001b[0m\u001b[0m_get_tracing_count\u001b[0m\u001b[0;34m(\u001b[0m\u001b[0;34m)\u001b[0m\u001b[0;34m:\u001b[0m\u001b[0;34m\u001b[0m\u001b[0;34m\u001b[0m\u001b[0m\n",
            "\u001b[0;32m/usr/local/lib/python3.6/dist-packages/tensorflow/python/eager/def_function.py\u001b[0m in \u001b[0;36m_call\u001b[0;34m(self, *args, **kwds)\u001b[0m\n\u001b[1;32m    625\u001b[0m       \u001b[0;31m# This is the first call of __call__, so we have to initialize.\u001b[0m\u001b[0;34m\u001b[0m\u001b[0;34m\u001b[0m\u001b[0;34m\u001b[0m\u001b[0m\n\u001b[1;32m    626\u001b[0m       \u001b[0minitializers\u001b[0m \u001b[0;34m=\u001b[0m \u001b[0;34m[\u001b[0m\u001b[0;34m]\u001b[0m\u001b[0;34m\u001b[0m\u001b[0;34m\u001b[0m\u001b[0m\n\u001b[0;32m--> 627\u001b[0;31m       \u001b[0mself\u001b[0m\u001b[0;34m.\u001b[0m\u001b[0m_initialize\u001b[0m\u001b[0;34m(\u001b[0m\u001b[0margs\u001b[0m\u001b[0;34m,\u001b[0m \u001b[0mkwds\u001b[0m\u001b[0;34m,\u001b[0m \u001b[0madd_initializers_to\u001b[0m\u001b[0;34m=\u001b[0m\u001b[0minitializers\u001b[0m\u001b[0;34m)\u001b[0m\u001b[0;34m\u001b[0m\u001b[0;34m\u001b[0m\u001b[0m\n\u001b[0m\u001b[1;32m    628\u001b[0m     \u001b[0;32mfinally\u001b[0m\u001b[0;34m:\u001b[0m\u001b[0;34m\u001b[0m\u001b[0;34m\u001b[0m\u001b[0m\n\u001b[1;32m    629\u001b[0m       \u001b[0;31m# At this point we know that the initialization is complete (or less\u001b[0m\u001b[0;34m\u001b[0m\u001b[0;34m\u001b[0m\u001b[0;34m\u001b[0m\u001b[0m\n",
            "\u001b[0;32m/usr/local/lib/python3.6/dist-packages/tensorflow/python/eager/def_function.py\u001b[0m in \u001b[0;36m_initialize\u001b[0;34m(self, args, kwds, add_initializers_to)\u001b[0m\n\u001b[1;32m    504\u001b[0m     self._concrete_stateful_fn = (\n\u001b[1;32m    505\u001b[0m         self._stateful_fn._get_concrete_function_internal_garbage_collected(  # pylint: disable=protected-access\n\u001b[0;32m--> 506\u001b[0;31m             *args, **kwds))\n\u001b[0m\u001b[1;32m    507\u001b[0m \u001b[0;34m\u001b[0m\u001b[0m\n\u001b[1;32m    508\u001b[0m     \u001b[0;32mdef\u001b[0m \u001b[0minvalid_creator_scope\u001b[0m\u001b[0;34m(\u001b[0m\u001b[0;34m*\u001b[0m\u001b[0munused_args\u001b[0m\u001b[0;34m,\u001b[0m \u001b[0;34m**\u001b[0m\u001b[0munused_kwds\u001b[0m\u001b[0;34m)\u001b[0m\u001b[0;34m:\u001b[0m\u001b[0;34m\u001b[0m\u001b[0;34m\u001b[0m\u001b[0m\n",
            "\u001b[0;32m/usr/local/lib/python3.6/dist-packages/tensorflow/python/eager/function.py\u001b[0m in \u001b[0;36m_get_concrete_function_internal_garbage_collected\u001b[0;34m(self, *args, **kwargs)\u001b[0m\n\u001b[1;32m   2444\u001b[0m       \u001b[0margs\u001b[0m\u001b[0;34m,\u001b[0m \u001b[0mkwargs\u001b[0m \u001b[0;34m=\u001b[0m \u001b[0;32mNone\u001b[0m\u001b[0;34m,\u001b[0m \u001b[0;32mNone\u001b[0m\u001b[0;34m\u001b[0m\u001b[0;34m\u001b[0m\u001b[0m\n\u001b[1;32m   2445\u001b[0m     \u001b[0;32mwith\u001b[0m \u001b[0mself\u001b[0m\u001b[0;34m.\u001b[0m\u001b[0m_lock\u001b[0m\u001b[0;34m:\u001b[0m\u001b[0;34m\u001b[0m\u001b[0;34m\u001b[0m\u001b[0m\n\u001b[0;32m-> 2446\u001b[0;31m       \u001b[0mgraph_function\u001b[0m\u001b[0;34m,\u001b[0m \u001b[0m_\u001b[0m\u001b[0;34m,\u001b[0m \u001b[0m_\u001b[0m \u001b[0;34m=\u001b[0m \u001b[0mself\u001b[0m\u001b[0;34m.\u001b[0m\u001b[0m_maybe_define_function\u001b[0m\u001b[0;34m(\u001b[0m\u001b[0margs\u001b[0m\u001b[0;34m,\u001b[0m \u001b[0mkwargs\u001b[0m\u001b[0;34m)\u001b[0m\u001b[0;34m\u001b[0m\u001b[0;34m\u001b[0m\u001b[0m\n\u001b[0m\u001b[1;32m   2447\u001b[0m     \u001b[0;32mreturn\u001b[0m \u001b[0mgraph_function\u001b[0m\u001b[0;34m\u001b[0m\u001b[0;34m\u001b[0m\u001b[0m\n\u001b[1;32m   2448\u001b[0m \u001b[0;34m\u001b[0m\u001b[0m\n",
            "\u001b[0;32m/usr/local/lib/python3.6/dist-packages/tensorflow/python/eager/function.py\u001b[0m in \u001b[0;36m_maybe_define_function\u001b[0;34m(self, args, kwargs)\u001b[0m\n\u001b[1;32m   2775\u001b[0m \u001b[0;34m\u001b[0m\u001b[0m\n\u001b[1;32m   2776\u001b[0m       \u001b[0mself\u001b[0m\u001b[0;34m.\u001b[0m\u001b[0m_function_cache\u001b[0m\u001b[0;34m.\u001b[0m\u001b[0mmissed\u001b[0m\u001b[0;34m.\u001b[0m\u001b[0madd\u001b[0m\u001b[0;34m(\u001b[0m\u001b[0mcall_context_key\u001b[0m\u001b[0;34m)\u001b[0m\u001b[0;34m\u001b[0m\u001b[0;34m\u001b[0m\u001b[0m\n\u001b[0;32m-> 2777\u001b[0;31m       \u001b[0mgraph_function\u001b[0m \u001b[0;34m=\u001b[0m \u001b[0mself\u001b[0m\u001b[0;34m.\u001b[0m\u001b[0m_create_graph_function\u001b[0m\u001b[0;34m(\u001b[0m\u001b[0margs\u001b[0m\u001b[0;34m,\u001b[0m \u001b[0mkwargs\u001b[0m\u001b[0;34m)\u001b[0m\u001b[0;34m\u001b[0m\u001b[0;34m\u001b[0m\u001b[0m\n\u001b[0m\u001b[1;32m   2778\u001b[0m       \u001b[0mself\u001b[0m\u001b[0;34m.\u001b[0m\u001b[0m_function_cache\u001b[0m\u001b[0;34m.\u001b[0m\u001b[0mprimary\u001b[0m\u001b[0;34m[\u001b[0m\u001b[0mcache_key\u001b[0m\u001b[0;34m]\u001b[0m \u001b[0;34m=\u001b[0m \u001b[0mgraph_function\u001b[0m\u001b[0;34m\u001b[0m\u001b[0;34m\u001b[0m\u001b[0m\n\u001b[1;32m   2779\u001b[0m       \u001b[0;32mreturn\u001b[0m \u001b[0mgraph_function\u001b[0m\u001b[0;34m,\u001b[0m \u001b[0margs\u001b[0m\u001b[0;34m,\u001b[0m \u001b[0mkwargs\u001b[0m\u001b[0;34m\u001b[0m\u001b[0;34m\u001b[0m\u001b[0m\n",
            "\u001b[0;32m/usr/local/lib/python3.6/dist-packages/tensorflow/python/eager/function.py\u001b[0m in \u001b[0;36m_create_graph_function\u001b[0;34m(self, args, kwargs, override_flat_arg_shapes)\u001b[0m\n\u001b[1;32m   2665\u001b[0m             \u001b[0marg_names\u001b[0m\u001b[0;34m=\u001b[0m\u001b[0marg_names\u001b[0m\u001b[0;34m,\u001b[0m\u001b[0;34m\u001b[0m\u001b[0;34m\u001b[0m\u001b[0m\n\u001b[1;32m   2666\u001b[0m             \u001b[0moverride_flat_arg_shapes\u001b[0m\u001b[0;34m=\u001b[0m\u001b[0moverride_flat_arg_shapes\u001b[0m\u001b[0;34m,\u001b[0m\u001b[0;34m\u001b[0m\u001b[0;34m\u001b[0m\u001b[0m\n\u001b[0;32m-> 2667\u001b[0;31m             capture_by_value=self._capture_by_value),\n\u001b[0m\u001b[1;32m   2668\u001b[0m         \u001b[0mself\u001b[0m\u001b[0;34m.\u001b[0m\u001b[0m_function_attributes\u001b[0m\u001b[0;34m,\u001b[0m\u001b[0;34m\u001b[0m\u001b[0;34m\u001b[0m\u001b[0m\n\u001b[1;32m   2669\u001b[0m         \u001b[0;31m# Tell the ConcreteFunction to clean up its graph once it goes out of\u001b[0m\u001b[0;34m\u001b[0m\u001b[0;34m\u001b[0m\u001b[0;34m\u001b[0m\u001b[0m\n",
            "\u001b[0;32m/usr/local/lib/python3.6/dist-packages/tensorflow/python/framework/func_graph.py\u001b[0m in \u001b[0;36mfunc_graph_from_py_func\u001b[0;34m(name, python_func, args, kwargs, signature, func_graph, autograph, autograph_options, add_control_dependencies, arg_names, op_return_value, collections, capture_by_value, override_flat_arg_shapes)\u001b[0m\n\u001b[1;32m    979\u001b[0m         \u001b[0m_\u001b[0m\u001b[0;34m,\u001b[0m \u001b[0moriginal_func\u001b[0m \u001b[0;34m=\u001b[0m \u001b[0mtf_decorator\u001b[0m\u001b[0;34m.\u001b[0m\u001b[0munwrap\u001b[0m\u001b[0;34m(\u001b[0m\u001b[0mpython_func\u001b[0m\u001b[0;34m)\u001b[0m\u001b[0;34m\u001b[0m\u001b[0;34m\u001b[0m\u001b[0m\n\u001b[1;32m    980\u001b[0m \u001b[0;34m\u001b[0m\u001b[0m\n\u001b[0;32m--> 981\u001b[0;31m       \u001b[0mfunc_outputs\u001b[0m \u001b[0;34m=\u001b[0m \u001b[0mpython_func\u001b[0m\u001b[0;34m(\u001b[0m\u001b[0;34m*\u001b[0m\u001b[0mfunc_args\u001b[0m\u001b[0;34m,\u001b[0m \u001b[0;34m**\u001b[0m\u001b[0mfunc_kwargs\u001b[0m\u001b[0;34m)\u001b[0m\u001b[0;34m\u001b[0m\u001b[0;34m\u001b[0m\u001b[0m\n\u001b[0m\u001b[1;32m    982\u001b[0m \u001b[0;34m\u001b[0m\u001b[0m\n\u001b[1;32m    983\u001b[0m       \u001b[0;31m# invariant: `func_outputs` contains only Tensors, CompositeTensors,\u001b[0m\u001b[0;34m\u001b[0m\u001b[0;34m\u001b[0m\u001b[0;34m\u001b[0m\u001b[0m\n",
            "\u001b[0;32m/usr/local/lib/python3.6/dist-packages/tensorflow/python/eager/def_function.py\u001b[0m in \u001b[0;36mwrapped_fn\u001b[0;34m(*args, **kwds)\u001b[0m\n\u001b[1;32m    439\u001b[0m         \u001b[0;31m# __wrapped__ allows AutoGraph to swap in a converted function. We give\u001b[0m\u001b[0;34m\u001b[0m\u001b[0;34m\u001b[0m\u001b[0;34m\u001b[0m\u001b[0m\n\u001b[1;32m    440\u001b[0m         \u001b[0;31m# the function a weak reference to itself to avoid a reference cycle.\u001b[0m\u001b[0;34m\u001b[0m\u001b[0;34m\u001b[0m\u001b[0;34m\u001b[0m\u001b[0m\n\u001b[0;32m--> 441\u001b[0;31m         \u001b[0;32mreturn\u001b[0m \u001b[0mweak_wrapped_fn\u001b[0m\u001b[0;34m(\u001b[0m\u001b[0;34m)\u001b[0m\u001b[0;34m.\u001b[0m\u001b[0m__wrapped__\u001b[0m\u001b[0;34m(\u001b[0m\u001b[0;34m*\u001b[0m\u001b[0margs\u001b[0m\u001b[0;34m,\u001b[0m \u001b[0;34m**\u001b[0m\u001b[0mkwds\u001b[0m\u001b[0;34m)\u001b[0m\u001b[0;34m\u001b[0m\u001b[0;34m\u001b[0m\u001b[0m\n\u001b[0m\u001b[1;32m    442\u001b[0m     \u001b[0mweak_wrapped_fn\u001b[0m \u001b[0;34m=\u001b[0m \u001b[0mweakref\u001b[0m\u001b[0;34m.\u001b[0m\u001b[0mref\u001b[0m\u001b[0;34m(\u001b[0m\u001b[0mwrapped_fn\u001b[0m\u001b[0;34m)\u001b[0m\u001b[0;34m\u001b[0m\u001b[0;34m\u001b[0m\u001b[0m\n\u001b[1;32m    443\u001b[0m \u001b[0;34m\u001b[0m\u001b[0m\n",
            "\u001b[0;32m/usr/local/lib/python3.6/dist-packages/tensorflow/python/framework/func_graph.py\u001b[0m in \u001b[0;36mwrapper\u001b[0;34m(*args, **kwargs)\u001b[0m\n\u001b[1;32m    966\u001b[0m           \u001b[0;32mexcept\u001b[0m \u001b[0mException\u001b[0m \u001b[0;32mas\u001b[0m \u001b[0me\u001b[0m\u001b[0;34m:\u001b[0m  \u001b[0;31m# pylint:disable=broad-except\u001b[0m\u001b[0;34m\u001b[0m\u001b[0;34m\u001b[0m\u001b[0m\n\u001b[1;32m    967\u001b[0m             \u001b[0;32mif\u001b[0m \u001b[0mhasattr\u001b[0m\u001b[0;34m(\u001b[0m\u001b[0me\u001b[0m\u001b[0;34m,\u001b[0m \u001b[0;34m\"ag_error_metadata\"\u001b[0m\u001b[0;34m)\u001b[0m\u001b[0;34m:\u001b[0m\u001b[0;34m\u001b[0m\u001b[0;34m\u001b[0m\u001b[0m\n\u001b[0;32m--> 968\u001b[0;31m               \u001b[0;32mraise\u001b[0m \u001b[0me\u001b[0m\u001b[0;34m.\u001b[0m\u001b[0mag_error_metadata\u001b[0m\u001b[0;34m.\u001b[0m\u001b[0mto_exception\u001b[0m\u001b[0;34m(\u001b[0m\u001b[0me\u001b[0m\u001b[0;34m)\u001b[0m\u001b[0;34m\u001b[0m\u001b[0;34m\u001b[0m\u001b[0m\n\u001b[0m\u001b[1;32m    969\u001b[0m             \u001b[0;32melse\u001b[0m\u001b[0;34m:\u001b[0m\u001b[0;34m\u001b[0m\u001b[0;34m\u001b[0m\u001b[0m\n\u001b[1;32m    970\u001b[0m               \u001b[0;32mraise\u001b[0m\u001b[0;34m\u001b[0m\u001b[0;34m\u001b[0m\u001b[0m\n",
            "\u001b[0;31mValueError\u001b[0m: in user code:\n\n    /usr/local/lib/python3.6/dist-packages/tensorflow/python/keras/engine/training.py:1150 predict_function  *\n        outputs = self.distribute_strategy.run(\n    /usr/local/lib/python3.6/dist-packages/tensorflow/python/distribute/distribute_lib.py:951 run  **\n        return self._extended.call_for_each_replica(fn, args=args, kwargs=kwargs)\n    /usr/local/lib/python3.6/dist-packages/tensorflow/python/distribute/distribute_lib.py:2290 call_for_each_replica\n        return self._call_for_each_replica(fn, args, kwargs)\n    /usr/local/lib/python3.6/dist-packages/tensorflow/python/distribute/distribute_lib.py:2649 _call_for_each_replica\n        return fn(*args, **kwargs)\n    /usr/local/lib/python3.6/dist-packages/tensorflow/python/keras/engine/training.py:1125 predict_step  **\n        return self(x, training=False)\n    /usr/local/lib/python3.6/dist-packages/tensorflow/python/keras/engine/base_layer.py:886 __call__\n        self.name)\n    /usr/local/lib/python3.6/dist-packages/tensorflow/python/keras/engine/input_spec.py:216 assert_input_compatibility\n        ' but received input with shape ' + str(shape))\n\n    ValueError: Input 0 of layer sequential_2 is incompatible with the layer: expected axis 1 of input shape to have value 10 but received input with shape [None, 1]\n"
          ]
        }
      ]
    },
    {
      "cell_type": "markdown",
      "metadata": {
        "id": "hbqJy8517yyh",
        "colab_type": "text"
      },
      "source": [
        "(10,) という形状を予想していたのに、(1,) として値が入力されていますよ<br>\n",
        "注意: 推論で使用する際には、(バッチサイズ, 入力変数の数) という形式となっていないと上記のようなエラー<br>\n",
        "ex) 今回であれば、(1, 10) が望ましいデータの形"
      ]
    },
    {
      "cell_type": "code",
      "metadata": {
        "id": "sL2JAMyN8W_7",
        "colab_type": "code",
        "colab": {
          "base_uri": "https://localhost:8080/",
          "height": 34
        },
        "outputId": "534866f4-d00f-4035-d305-91521be77ab1"
      },
      "source": [
        "# 形を変換\n",
        "sample = sample.reshape(1, 10)\n",
        "\n",
        "# 再計算\n",
        "y = loaded_model.predict(sample)\n",
        "y"
      ],
      "execution_count": null,
      "outputs": [
        {
          "output_type": "execute_result",
          "data": {
            "text/plain": [
              "array([[0.9737636 , 0.00732896, 0.01890747]], dtype=float32)"
            ]
          },
          "metadata": {
            "tags": []
          },
          "execution_count": 69
        }
      ]
    },
    {
      "cell_type": "code",
      "metadata": {
        "id": "Lq1kYxgL8kvq",
        "colab_type": "code",
        "colab": {
          "base_uri": "https://localhost:8080/",
          "height": 34
        },
        "outputId": "7ce61c51-7f09-4206-8070-f58f4868a4e5"
      },
      "source": [
        "# 最大のラベル\n",
        "np.argmax(y)"
      ],
      "execution_count": null,
      "outputs": [
        {
          "output_type": "execute_result",
          "data": {
            "text/plain": [
              "0"
            ]
          },
          "metadata": {
            "tags": []
          },
          "execution_count": 70
        }
      ]
    },
    {
      "cell_type": "code",
      "metadata": {
        "id": "YwsMk8R38zfz",
        "colab_type": "code",
        "colab": {
          "base_uri": "https://localhost:8080/",
          "height": 34
        },
        "outputId": "bf37cfb1-f48b-4241-c6c0-e378e43da273"
      },
      "source": [
        "# 正解ラベル\n",
        "t_train[0]"
      ],
      "execution_count": null,
      "outputs": [
        {
          "output_type": "execute_result",
          "data": {
            "text/plain": [
              "0"
            ]
          },
          "metadata": {
            "tags": []
          },
          "execution_count": 71
        }
      ]
    },
    {
      "cell_type": "markdown",
      "metadata": {
        "id": "REDqcdTX83K8",
        "colab_type": "text"
      },
      "source": [
        "実際にはさらに複雑なモデルを構築することになることも多い<br>\n",
        "→ その場合には Functional API や Subclassing API を使用<br>\n",
        "しかし、気軽に試してみたい場合などには本章の流れを振り返りながら Sequential API を積極的に使用すべし"
      ]
    },
    {
      "cell_type": "code",
      "metadata": {
        "id": "x9iKXJ7U9LN-",
        "colab_type": "code",
        "colab": {}
      },
      "source": [
        ""
      ],
      "execution_count": null,
      "outputs": []
    }
  ]
}