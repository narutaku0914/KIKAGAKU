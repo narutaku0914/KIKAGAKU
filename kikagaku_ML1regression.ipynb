{
  "nbformat": 4,
  "nbformat_minor": 0,
  "metadata": {
    "colab": {
      "name": "kikagaku_ML1regression.ipynb",
      "provenance": [],
      "collapsed_sections": [],
      "authorship_tag": "ABX9TyO5ClHdNzpuDOdPdm5GjUa6",
      "include_colab_link": true
    },
    "kernelspec": {
      "name": "python3",
      "display_name": "Python 3"
    }
  },
  "cells": [
    {
      "cell_type": "markdown",
      "metadata": {
        "id": "view-in-github",
        "colab_type": "text"
      },
      "source": [
        "<a href=\"https://colab.research.google.com/github/narutaku0914/KIKAGAKU/blob/master/kikagaku_ML1regression.ipynb\" target=\"_parent\"><img src=\"https://colab.research.google.com/assets/colab-badge.svg\" alt=\"Open In Colab\"/></a>"
      ]
    },
    {
      "cell_type": "markdown",
      "metadata": {
        "id": "XoDuWSOfHH5O",
        "colab_type": "text"
      },
      "source": [
        "# **重回帰分析の実装**"
      ]
    },
    {
      "cell_type": "code",
      "metadata": {
        "id": "lqdlsncTHgES",
        "colab_type": "code",
        "colab": {}
      },
      "source": [
        "import numpy as np\n",
        "import pandas as pd\n",
        "import matplotlib.pyplot as plt\n",
        "import seaborn as sns"
      ],
      "execution_count": null,
      "outputs": []
    },
    {
      "cell_type": "code",
      "metadata": {
        "id": "lbex90CVHzLp",
        "colab_type": "code",
        "colab": {}
      },
      "source": [
        "# データセットの読み込み\n",
        "from sklearn.datasets import load_boston\n",
        "dataset = load_boston()\n",
        "x, t = dataset.data, dataset.target   # 目標値(Target) t\n",
        "columns = dataset.feature_names"
      ],
      "execution_count": null,
      "outputs": []
    },
    {
      "cell_type": "code",
      "metadata": {
        "id": "LhT70CHifWA9",
        "colab_type": "code",
        "colab": {
          "base_uri": "https://localhost:8080/",
          "height": 34
        },
        "outputId": "57215db6-e930-4783-9c9b-2dc3f2a2d595"
      },
      "source": [
        "type(x), x.shape, type(t), t.shape # データセットの型確認"
      ],
      "execution_count": null,
      "outputs": [
        {
          "output_type": "execute_result",
          "data": {
            "text/plain": [
              "(numpy.ndarray, (506, 13), numpy.ndarray, (506,))"
            ]
          },
          "metadata": {
            "tags": []
          },
          "execution_count": 4
        }
      ]
    },
    {
      "cell_type": "code",
      "metadata": {
        "id": "oP_sXjqvfhao",
        "colab_type": "code",
        "colab": {
          "base_uri": "https://localhost:8080/",
          "height": 224
        },
        "outputId": "8c8bdfd4-66ac-4ece-b712-538773c14b4c"
      },
      "source": [
        "df = pd.DataFrame(x, columns=columns)\n",
        "df.head()"
      ],
      "execution_count": null,
      "outputs": [
        {
          "output_type": "execute_result",
          "data": {
            "text/html": [
              "<div>\n",
              "<style scoped>\n",
              "    .dataframe tbody tr th:only-of-type {\n",
              "        vertical-align: middle;\n",
              "    }\n",
              "\n",
              "    .dataframe tbody tr th {\n",
              "        vertical-align: top;\n",
              "    }\n",
              "\n",
              "    .dataframe thead th {\n",
              "        text-align: right;\n",
              "    }\n",
              "</style>\n",
              "<table border=\"1\" class=\"dataframe\">\n",
              "  <thead>\n",
              "    <tr style=\"text-align: right;\">\n",
              "      <th></th>\n",
              "      <th>CRIM</th>\n",
              "      <th>ZN</th>\n",
              "      <th>INDUS</th>\n",
              "      <th>CHAS</th>\n",
              "      <th>NOX</th>\n",
              "      <th>RM</th>\n",
              "      <th>AGE</th>\n",
              "      <th>DIS</th>\n",
              "      <th>RAD</th>\n",
              "      <th>TAX</th>\n",
              "      <th>PTRATIO</th>\n",
              "      <th>B</th>\n",
              "      <th>LSTAT</th>\n",
              "    </tr>\n",
              "  </thead>\n",
              "  <tbody>\n",
              "    <tr>\n",
              "      <th>0</th>\n",
              "      <td>0.00632</td>\n",
              "      <td>18.0</td>\n",
              "      <td>2.31</td>\n",
              "      <td>0.0</td>\n",
              "      <td>0.538</td>\n",
              "      <td>6.575</td>\n",
              "      <td>65.2</td>\n",
              "      <td>4.0900</td>\n",
              "      <td>1.0</td>\n",
              "      <td>296.0</td>\n",
              "      <td>15.3</td>\n",
              "      <td>396.90</td>\n",
              "      <td>4.98</td>\n",
              "    </tr>\n",
              "    <tr>\n",
              "      <th>1</th>\n",
              "      <td>0.02731</td>\n",
              "      <td>0.0</td>\n",
              "      <td>7.07</td>\n",
              "      <td>0.0</td>\n",
              "      <td>0.469</td>\n",
              "      <td>6.421</td>\n",
              "      <td>78.9</td>\n",
              "      <td>4.9671</td>\n",
              "      <td>2.0</td>\n",
              "      <td>242.0</td>\n",
              "      <td>17.8</td>\n",
              "      <td>396.90</td>\n",
              "      <td>9.14</td>\n",
              "    </tr>\n",
              "    <tr>\n",
              "      <th>2</th>\n",
              "      <td>0.02729</td>\n",
              "      <td>0.0</td>\n",
              "      <td>7.07</td>\n",
              "      <td>0.0</td>\n",
              "      <td>0.469</td>\n",
              "      <td>7.185</td>\n",
              "      <td>61.1</td>\n",
              "      <td>4.9671</td>\n",
              "      <td>2.0</td>\n",
              "      <td>242.0</td>\n",
              "      <td>17.8</td>\n",
              "      <td>392.83</td>\n",
              "      <td>4.03</td>\n",
              "    </tr>\n",
              "    <tr>\n",
              "      <th>3</th>\n",
              "      <td>0.03237</td>\n",
              "      <td>0.0</td>\n",
              "      <td>2.18</td>\n",
              "      <td>0.0</td>\n",
              "      <td>0.458</td>\n",
              "      <td>6.998</td>\n",
              "      <td>45.8</td>\n",
              "      <td>6.0622</td>\n",
              "      <td>3.0</td>\n",
              "      <td>222.0</td>\n",
              "      <td>18.7</td>\n",
              "      <td>394.63</td>\n",
              "      <td>2.94</td>\n",
              "    </tr>\n",
              "    <tr>\n",
              "      <th>4</th>\n",
              "      <td>0.06905</td>\n",
              "      <td>0.0</td>\n",
              "      <td>2.18</td>\n",
              "      <td>0.0</td>\n",
              "      <td>0.458</td>\n",
              "      <td>7.147</td>\n",
              "      <td>54.2</td>\n",
              "      <td>6.0622</td>\n",
              "      <td>3.0</td>\n",
              "      <td>222.0</td>\n",
              "      <td>18.7</td>\n",
              "      <td>396.90</td>\n",
              "      <td>5.33</td>\n",
              "    </tr>\n",
              "  </tbody>\n",
              "</table>\n",
              "</div>"
            ],
            "text/plain": [
              "      CRIM    ZN  INDUS  CHAS    NOX  ...  RAD    TAX  PTRATIO       B  LSTAT\n",
              "0  0.00632  18.0   2.31   0.0  0.538  ...  1.0  296.0     15.3  396.90   4.98\n",
              "1  0.02731   0.0   7.07   0.0  0.469  ...  2.0  242.0     17.8  396.90   9.14\n",
              "2  0.02729   0.0   7.07   0.0  0.469  ...  2.0  242.0     17.8  392.83   4.03\n",
              "3  0.03237   0.0   2.18   0.0  0.458  ...  3.0  222.0     18.7  394.63   2.94\n",
              "4  0.06905   0.0   2.18   0.0  0.458  ...  3.0  222.0     18.7  396.90   5.33\n",
              "\n",
              "[5 rows x 13 columns]"
            ]
          },
          "metadata": {
            "tags": []
          },
          "execution_count": 7
        }
      ]
    },
    {
      "cell_type": "code",
      "metadata": {
        "id": "6qLLK04yfu23",
        "colab_type": "code",
        "colab": {
          "base_uri": "https://localhost:8080/",
          "height": 162
        },
        "outputId": "053b5d00-d369-43e8-e7c4-4c876396e36d"
      },
      "source": [
        "# 目標値追加\n",
        "df['Target'] = t\n",
        "df.head(3)"
      ],
      "execution_count": null,
      "outputs": [
        {
          "output_type": "execute_result",
          "data": {
            "text/html": [
              "<div>\n",
              "<style scoped>\n",
              "    .dataframe tbody tr th:only-of-type {\n",
              "        vertical-align: middle;\n",
              "    }\n",
              "\n",
              "    .dataframe tbody tr th {\n",
              "        vertical-align: top;\n",
              "    }\n",
              "\n",
              "    .dataframe thead th {\n",
              "        text-align: right;\n",
              "    }\n",
              "</style>\n",
              "<table border=\"1\" class=\"dataframe\">\n",
              "  <thead>\n",
              "    <tr style=\"text-align: right;\">\n",
              "      <th></th>\n",
              "      <th>CRIM</th>\n",
              "      <th>ZN</th>\n",
              "      <th>INDUS</th>\n",
              "      <th>CHAS</th>\n",
              "      <th>NOX</th>\n",
              "      <th>RM</th>\n",
              "      <th>AGE</th>\n",
              "      <th>DIS</th>\n",
              "      <th>RAD</th>\n",
              "      <th>TAX</th>\n",
              "      <th>PTRATIO</th>\n",
              "      <th>B</th>\n",
              "      <th>LSTAT</th>\n",
              "      <th>Target</th>\n",
              "    </tr>\n",
              "  </thead>\n",
              "  <tbody>\n",
              "    <tr>\n",
              "      <th>0</th>\n",
              "      <td>0.00632</td>\n",
              "      <td>18.0</td>\n",
              "      <td>2.31</td>\n",
              "      <td>0.0</td>\n",
              "      <td>0.538</td>\n",
              "      <td>6.575</td>\n",
              "      <td>65.2</td>\n",
              "      <td>4.0900</td>\n",
              "      <td>1.0</td>\n",
              "      <td>296.0</td>\n",
              "      <td>15.3</td>\n",
              "      <td>396.90</td>\n",
              "      <td>4.98</td>\n",
              "      <td>24.0</td>\n",
              "    </tr>\n",
              "    <tr>\n",
              "      <th>1</th>\n",
              "      <td>0.02731</td>\n",
              "      <td>0.0</td>\n",
              "      <td>7.07</td>\n",
              "      <td>0.0</td>\n",
              "      <td>0.469</td>\n",
              "      <td>6.421</td>\n",
              "      <td>78.9</td>\n",
              "      <td>4.9671</td>\n",
              "      <td>2.0</td>\n",
              "      <td>242.0</td>\n",
              "      <td>17.8</td>\n",
              "      <td>396.90</td>\n",
              "      <td>9.14</td>\n",
              "      <td>21.6</td>\n",
              "    </tr>\n",
              "    <tr>\n",
              "      <th>2</th>\n",
              "      <td>0.02729</td>\n",
              "      <td>0.0</td>\n",
              "      <td>7.07</td>\n",
              "      <td>0.0</td>\n",
              "      <td>0.469</td>\n",
              "      <td>7.185</td>\n",
              "      <td>61.1</td>\n",
              "      <td>4.9671</td>\n",
              "      <td>2.0</td>\n",
              "      <td>242.0</td>\n",
              "      <td>17.8</td>\n",
              "      <td>392.83</td>\n",
              "      <td>4.03</td>\n",
              "      <td>34.7</td>\n",
              "    </tr>\n",
              "  </tbody>\n",
              "</table>\n",
              "</div>"
            ],
            "text/plain": [
              "      CRIM    ZN  INDUS  CHAS    NOX  ...    TAX  PTRATIO       B  LSTAT  Target\n",
              "0  0.00632  18.0   2.31   0.0  0.538  ...  296.0     15.3  396.90   4.98    24.0\n",
              "1  0.02731   0.0   7.07   0.0  0.469  ...  242.0     17.8  396.90   9.14    21.6\n",
              "2  0.02729   0.0   7.07   0.0  0.469  ...  242.0     17.8  392.83   4.03    34.7\n",
              "\n",
              "[3 rows x 14 columns]"
            ]
          },
          "metadata": {
            "tags": []
          },
          "execution_count": 8
        }
      ]
    },
    {
      "cell_type": "code",
      "metadata": {
        "id": "eEdZVrhAgDTZ",
        "colab_type": "code",
        "colab": {}
      },
      "source": [
        "# 入力変数と目的変数(モデルの学習に用いるためのデータと、学習後のモデルのパフォーマンスをテストするために用いるデータ)の切り分け\n",
        "t = df['Target'].values\n",
        "x = df.drop(labels=['Target'], axis=1).values  # axis=1: 列方向"
      ],
      "execution_count": null,
      "outputs": []
    },
    {
      "cell_type": "code",
      "metadata": {
        "id": "DbBi_az8hbOe",
        "colab_type": "code",
        "colab": {}
      },
      "source": [
        "# ホールドアウト法 (holdout method) \n",
        "from sklearn.model_selection import train_test_split\n",
        "\n",
        "# 2つに分割\n",
        "x_train, x_test, t_train, t_test = train_test_split(x, t, test_size=0.3, random_state=0)"
      ],
      "execution_count": null,
      "outputs": []
    },
    {
      "cell_type": "markdown",
      "metadata": {
        "id": "-G5VL66UpWfO",
        "colab_type": "text"
      },
      "source": [
        "テスト用データを全体の３０％                          \n",
        "random_state = seed"
      ]
    },
    {
      "cell_type": "markdown",
      "metadata": {
        "id": "pX1dAqG1p7p6",
        "colab_type": "text"
      },
      "source": [
        "# モデルの学習、検証"
      ]
    },
    {
      "cell_type": "code",
      "metadata": {
        "id": "jwrEJgmSqKYQ",
        "colab_type": "code",
        "colab": {}
      },
      "source": [
        "# 1; モデルの定義\n",
        "from sklearn.linear_model import LinearRegression\n",
        "model = LinearRegression()"
      ],
      "execution_count": null,
      "outputs": []
    },
    {
      "cell_type": "code",
      "metadata": {
        "id": "kQp3CsrPqbHt",
        "colab_type": "code",
        "colab": {
          "base_uri": "https://localhost:8080/",
          "height": 34
        },
        "outputId": "8a76f9df-d994-4a01-b4c5-1efd85e94d54"
      },
      "source": [
        "# 2; モデルの学習\n",
        "model.fit(x_train, t_train)"
      ],
      "execution_count": null,
      "outputs": [
        {
          "output_type": "execute_result",
          "data": {
            "text/plain": [
              "LinearRegression(copy_X=True, fit_intercept=True, n_jobs=None, normalize=False)"
            ]
          },
          "metadata": {
            "tags": []
          },
          "execution_count": 12
        }
      ]
    },
    {
      "cell_type": "code",
      "metadata": {
        "id": "AEPcKAzWvSIC",
        "colab_type": "code",
        "colab": {
          "base_uri": "https://localhost:8080/",
          "height": 85
        },
        "outputId": "0272f6fc-5fd5-4e36-ced2-a103c71232bb"
      },
      "source": [
        "# 学習後のパラメータ w\n",
        "model.coef_  "
      ],
      "execution_count": null,
      "outputs": [
        {
          "output_type": "execute_result",
          "data": {
            "text/plain": [
              "array([-1.21310401e-01,  4.44664254e-02,  1.13416945e-02,  2.51124642e+00,\n",
              "       -1.62312529e+01,  3.85906801e+00, -9.98516565e-03, -1.50026956e+00,\n",
              "        2.42143466e-01, -1.10716124e-02, -1.01775264e+00,  6.81446545e-03,\n",
              "       -4.86738066e-01])"
            ]
          },
          "metadata": {
            "tags": []
          },
          "execution_count": 13
        }
      ]
    },
    {
      "cell_type": "markdown",
      "metadata": {
        "id": "FloOULplvj7q",
        "colab_type": "text"
      },
      "source": [
        "★重回帰分析では、重み w とバイアス b の ２ つがパラメータ   \n",
        "求まった重み w の値は model.coef_ 属性に、バイアス b の値は model.intercept_ 属性に格納"
      ]
    },
    {
      "cell_type": "code",
      "metadata": {
        "id": "AsFynGHq9kfQ",
        "colab_type": "code",
        "colab": {
          "base_uri": "https://localhost:8080/",
          "height": 34
        },
        "outputId": "7b9a63a0-352d-48db-d548-41ddb5e9893d"
      },
      "source": [
        "model.intercept_"
      ],
      "execution_count": null,
      "outputs": [
        {
          "output_type": "execute_result",
          "data": {
            "text/plain": [
              "37.93710774183309"
            ]
          },
          "metadata": {
            "tags": []
          },
          "execution_count": 14
        }
      ]
    },
    {
      "cell_type": "code",
      "metadata": {
        "id": "qO0KTvn19oOq",
        "colab_type": "code",
        "colab": {
          "base_uri": "https://localhost:8080/",
          "height": 428
        },
        "outputId": "90a956c6-c836-4aff-b984-78a5d5355f8b"
      },
      "source": [
        "# パラメータの分布をヒストグラムで可視化\n",
        "%matplotlib inline\n",
        "plt.figure(figsize=(10, 7))\n",
        "plt.bar(x=columns, height=model.coef_);"
      ],
      "execution_count": null,
      "outputs": [
        {
          "output_type": "display_data",
          "data": {
            "image/png": "[encoded data removed]",
            "text/plain": [
              "<Figure size 720x504 with 1 Axes>"
            ]
          },
          "metadata": {
            "tags": [],
            "needs_background": "light"
          }
        }
      ]
    },
    {
      "cell_type": "code",
      "metadata": {
        "id": "tMtwRIZp-MYL",
        "colab_type": "code",
        "colab": {
          "base_uri": "https://localhost:8080/",
          "height": 51
        },
        "outputId": "730a431d-c616-45e8-f0c9-72c2fb0facd7"
      },
      "source": [
        "# 3; モデルの検証\n",
        "print('train score: ', model.score(x_train, t_train))\n",
        "print('test score: ', model.score(x_test, t_test))"
      ],
      "execution_count": null,
      "outputs": [
        {
          "output_type": "stream",
          "text": [
            "train score:  0.7645451026942549\n",
            "test score:  0.6733825506400171\n"
          ],
          "name": "stdout"
        }
      ]
    },
    {
      "cell_type": "markdown",
      "metadata": {
        "id": "2j3nycm2DlhV",
        "colab_type": "text"
      },
      "source": [
        "入力変数と目的変数を与えると学習済みのモデルを用いて計算した決定係数 (coefficient of determination) という指標を返す"
      ]
    },
    {
      "cell_type": "markdown",
      "metadata": {
        "id": "wD7hNlfUDtXi",
        "colab_type": "text"
      },
      "source": [
        "使用するデータセットのサンプルサイズを N、n 個目の入力値に対する予測値を y_n、目標値を t_n、そしてそのデータセット内の全ての目標値の平均値を bar t\n",
        "​​  としたとき、\n",
        "\n",
        "\\begin{array}{c} R^2 = 1 - \\frac{\\sum_{n=1}^{N} (t_n - y_n)^2}{\\sum_{n=1}^{N} (t_n - \\bar t)^2} \\end{array}\n",
        "​​ \n",
        "\n",
        "で表される指標 → 1に近ければ良い"
      ]
    },
    {
      "cell_type": "code",
      "metadata": {
        "id": "nzWFZ-V7Dydu",
        "colab_type": "code",
        "colab": {}
      },
      "source": [
        "# 推論\n",
        "y = model.predict(x_test)  # predict; 学習が終わったモデルに、新たな入力値を与えて予測値を計算(推論)"
      ],
      "execution_count": null,
      "outputs": []
    },
    {
      "cell_type": "code",
      "metadata": {
        "id": "_MrOc5h5FItr",
        "colab_type": "code",
        "colab": {
          "base_uri": "https://localhost:8080/",
          "height": 51
        },
        "outputId": "9476020a-3b05-44bb-fb64-8d90bb6a0a83"
      },
      "source": [
        "print('予測値: ', y[0])\n",
        "print('目標値: ', t_test[0])"
      ],
      "execution_count": null,
      "outputs": [
        {
          "output_type": "stream",
          "text": [
            "予測値:  24.935707898576915\n",
            "目標値:  22.6\n"
          ],
          "name": "stdout"
        }
      ]
    },
    {
      "cell_type": "markdown",
      "metadata": {
        "id": "P6_01urOFeOf",
        "colab_type": "text"
      },
      "source": [
        " # 過学習を抑制する手法"
      ]
    },
    {
      "cell_type": "code",
      "metadata": {
        "id": "mwLRbtFLFx8E",
        "colab_type": "code",
        "colab": {}
      },
      "source": [
        "# Ridge回帰 L2ノルム(原点から点までの長さ)正則化\n",
        "\n",
        "# モデルの定義, ハイパーパラメータの値設定\n",
        "from sklearn.linear_model import Ridge\n",
        "ridge = Ridge(alpha=1)"
      ],
      "execution_count": null,
      "outputs": []
    },
    {
      "cell_type": "code",
      "metadata": {
        "id": "jeMw6ylG7mbh",
        "colab_type": "code",
        "colab": {
          "base_uri": "https://localhost:8080/",
          "height": 51
        },
        "outputId": "99404918-2980-4997-fa9d-18b0b4607969"
      },
      "source": [
        "# モデルの学習\n",
        "ridge.fit(x_train, t_train)"
      ],
      "execution_count": null,
      "outputs": [
        {
          "output_type": "execute_result",
          "data": {
            "text/plain": [
              "Ridge(alpha=1, copy_X=True, fit_intercept=True, max_iter=None, normalize=False,\n",
              "      random_state=None, solver='auto', tol=0.001)"
            ]
          },
          "metadata": {
            "tags": []
          },
          "execution_count": 20
        }
      ]
    },
    {
      "cell_type": "code",
      "metadata": {
        "id": "R4aNRXpZ8Mh2",
        "colab_type": "code",
        "colab": {
          "base_uri": "https://localhost:8080/",
          "height": 51
        },
        "outputId": "328b42d0-d92d-40f1-885e-d1a3bd212706"
      },
      "source": [
        "# モデルの検証\n",
        "print('train score: ', ridge.score(x_train, t_train))\n",
        "print('test score: ', ridge.score(x_test, t_test))"
      ],
      "execution_count": null,
      "outputs": [
        {
          "output_type": "stream",
          "text": [
            "train score:  0.7623440182689594\n",
            "test score:  0.6665819091486688\n"
          ],
          "name": "stdout"
        }
      ]
    },
    {
      "cell_type": "markdown",
      "metadata": {
        "id": "l3yveWNn8g8M",
        "colab_type": "text"
      },
      "source": [
        "回帰前と変わらない"
      ]
    },
    {
      "cell_type": "code",
      "metadata": {
        "id": "NZLaXS0e8vVK",
        "colab_type": "code",
        "colab": {
          "base_uri": "https://localhost:8080/",
          "height": 624
        },
        "outputId": "4387464a-791f-4860-9e61-7d6438bc8709"
      },
      "source": [
        "fig = plt.figure(figsize=(7, 10))\n",
        "\n",
        "# 重回帰\n",
        "ax1 = fig.add_subplot(2, 1, 1)\n",
        "ax1.bar(x=columns, height=model.coef_)\n",
        "ax1.set_title('Linear Regression')\n",
        "\n",
        "# Ridge回帰\n",
        "ax2 = fig.add_subplot(2, 1, 2)\n",
        "ax2.bar(x=columns, height=ridge.coef_)\n",
        "ax2.set_title('Ridge Regression')"
      ],
      "execution_count": null,
      "outputs": [
        {
          "output_type": "execute_result",
          "data": {
            "text/plain": [
              "Text(0.5, 1.0, 'Ridge Regression')"
            ]
          },
          "metadata": {
            "tags": []
          },
          "execution_count": 22
        },
        {
          "output_type": "display_data",
          "data": {
            "image/png": "[encoded data removed]",
            "text/plain": [
              "<Figure size 504x720 with 2 Axes>"
            ]
          },
          "metadata": {
            "tags": [],
            "needs_background": "light"
          }
        }
      ]
    },
    {
      "cell_type": "markdown",
      "metadata": {
        "id": "cpbhaf7k-pKn",
        "colab_type": "text"
      },
      "source": [
        "予測性能に大きな変化は無かったですが、重回帰分析に比べて特定の入力変数に過剰に適合していないことがわかる　<br>正則化項の \\alphaα の値を調整することによって、パラメータが調整される幅にどのように変化があるか確かめてみて"
      ]
    },
    {
      "cell_type": "code",
      "metadata": {
        "id": "0fyE6M17_CXv",
        "colab_type": "code",
        "colab": {
          "base_uri": "https://localhost:8080/",
          "height": 68
        },
        "outputId": "23baaa7a-4b33-49f2-e9c9-3c1e47e0dc22"
      },
      "source": [
        "# Lasso L1正則化\n",
        "'''\n",
        "Lasso 回帰の特徴として不要な入力変数を特定し、該当する重み w を 0 にする事で\n",
        "実質的に入力変数の種類を減らすことが出来る。\n",
        "このとき生成される重み w のベクトル w は 0を多く含み、これをスパース性があると表現\n",
        "'''\n",
        "\n",
        "# モデルの定義\n",
        "from sklearn.linear_model import Lasso\n",
        "lasso = Lasso(alpha=1)\n",
        "\n",
        "# モデルの学習\n",
        "lasso.fit(x_train, t_train)"
      ],
      "execution_count": null,
      "outputs": [
        {
          "output_type": "execute_result",
          "data": {
            "text/plain": [
              "Lasso(alpha=1, copy_X=True, fit_intercept=True, max_iter=1000, normalize=False,\n",
              "      positive=False, precompute=False, random_state=None, selection='cyclic',\n",
              "      tol=0.0001, warm_start=False)"
            ]
          },
          "metadata": {
            "tags": []
          },
          "execution_count": 23
        }
      ]
    },
    {
      "cell_type": "code",
      "metadata": {
        "id": "YJqjnIj2ADEp",
        "colab_type": "code",
        "colab": {
          "base_uri": "https://localhost:8080/",
          "height": 51
        },
        "outputId": "b45a9e47-7287-45a3-ed41-b6b142806102"
      },
      "source": [
        "# 検証\n",
        "print('train score: ', lasso.score(x_train, t_train))\n",
        "print('test score: ', lasso.score(x_test, t_test))"
      ],
      "execution_count": null,
      "outputs": [
        {
          "output_type": "stream",
          "text": [
            "train score:  0.7084095500978869\n",
            "test score:  0.6115433359595555\n"
          ],
          "name": "stdout"
        }
      ]
    },
    {
      "cell_type": "code",
      "metadata": {
        "id": "C6HG8yF_A_Ag",
        "colab_type": "code",
        "colab": {
          "base_uri": "https://localhost:8080/",
          "height": 51
        },
        "outputId": "0388c850-384e-4bcc-f708-c6b3a5dfd0f4"
      },
      "source": [
        "# どの程度スパースになっているのか確認\n",
        "# 0になっていない特徴量の数\n",
        "print('元の特徴量の数: ', x.shape[1])\n",
        "print('Lassoの特徴量: ', np.sum(lasso.coef_ != 0)) # 重み(lasso.coef_)がゼロでない特徴量の数"
      ],
      "execution_count": null,
      "outputs": [
        {
          "output_type": "stream",
          "text": [
            "元の特徴量の数:  13\n",
            "Lassoの特徴量:  10\n"
          ],
          "name": "stdout"
        }
      ]
    },
    {
      "cell_type": "code",
      "metadata": {
        "id": "PUBGvSVwBtEV",
        "colab_type": "code",
        "colab": {
          "base_uri": "https://localhost:8080/",
          "height": 51
        },
        "outputId": "99215187-5150-4ef2-b641-479400d67818"
      },
      "source": [
        "# αを変更してみる\n",
        "lasso_005 = Lasso(alpha=0.05)\n",
        "lasso_005.fit(x_train, t_train)\n",
        "\n",
        "print('train score: ', lasso_005.score(x_train, t_train))\n",
        "print('test score: ', lasso_005.score(x_test, t_test))"
      ],
      "execution_count": null,
      "outputs": [
        {
          "output_type": "stream",
          "text": [
            "train score:  0.7548928631432029\n",
            "test score:  0.6541502573235292\n"
          ],
          "name": "stdout"
        }
      ]
    },
    {
      "cell_type": "code",
      "metadata": {
        "id": "sQRV6M96EtxM",
        "colab_type": "code",
        "colab": {
          "base_uri": "https://localhost:8080/",
          "height": 51
        },
        "outputId": "b5685087-fa8f-446d-cbf0-9eda9397207b"
      },
      "source": [
        "# 0になっていない特徴量の数\n",
        "print('元の特徴量の数: ', x.shape[1])\n",
        "print('Lassoの特徴量: ', np.sum(lasso_005.coef_ != 0))"
      ],
      "execution_count": null,
      "outputs": [
        {
          "output_type": "stream",
          "text": [
            "元の特徴量の数:  13\n",
            "Lassoの特徴量:  12\n"
          ],
          "name": "stdout"
        }
      ]
    },
    {
      "cell_type": "code",
      "metadata": {
        "id": "35pzpJpYE0_x",
        "colab_type": "code",
        "colab": {
          "base_uri": "https://localhost:8080/",
          "height": 896
        },
        "outputId": "0bf539a3-f9fb-48cf-f62d-6ac950fcb0dc"
      },
      "source": [
        "fig = plt.figure(figsize=(7, 15))\n",
        "\n",
        "# 重回帰\n",
        "ax1 = fig.add_subplot(3, 1, 1)\n",
        "ax1.bar(x=columns, height=model.coef_)\n",
        "ax1.set_title('Linear Regression')\n",
        "\n",
        "# Ridge回帰\n",
        "ax2 = fig.add_subplot(3, 1, 2)\n",
        "ax2.bar(x=columns, height=lasso.coef_)\n",
        "ax2.set_title('Lasso Regressio')\n",
        "\n",
        "# α=0.05\n",
        "ax3 = fig.add_subplot(3, 1, 3)\n",
        "ax3.bar(x=columns, height=lasso_005.coef_)\n",
        "ax3.set_title('Lasso Regression 0.05')"
      ],
      "execution_count": null,
      "outputs": [
        {
          "output_type": "execute_result",
          "data": {
            "text/plain": [
              "Text(0.5, 1.0, 'Lasso Regression 0.05')"
            ]
          },
          "metadata": {
            "tags": []
          },
          "execution_count": 28
        },
        {
          "output_type": "display_data",
          "data": {
            "image/png": "[encoded data removed]",
            "text/plain": [
              "<Figure size 504x1080 with 3 Axes>"
            ]
          },
          "metadata": {
            "tags": [],
            "needs_background": "light"
          }
        }
      ]
    },
    {
      "cell_type": "markdown",
      "metadata": {
        "id": "a31pjlQpFlKZ",
        "colab_type": "text"
      },
      "source": [
        "いくつかの入力変数に紐づく重み w が 0 になっている。<br> Lasso 回帰の特長によって不要な入力変数を減らすことが出来ている"
      ]
    },
    {
      "cell_type": "markdown",
      "metadata": {
        "id": "DcNGfYTFFy1p",
        "colab_type": "text"
      },
      "source": [
        "# 相関関係と多重共線性問題"
      ]
    },
    {
      "cell_type": "code",
      "metadata": {
        "id": "QOjkU_hXGNHp",
        "colab_type": "code",
        "colab": {
          "resources": {
            "http://localhost:8080/nbextensions/google.colab/files.js": {
              "data": "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",
              "ok": true,
              "headers": [
                [
                  "content-type",
                  "application/javascript"
                ]
              ],
              "status": 200,
              "status_text": ""
            }
          },
          "base_uri": "https://localhost:8080/",
          "height": 71
        },
        "outputId": "449f14c3-749e-4611-f2be-003d75c573d9"
      },
      "source": [
        "from google.colab import files\n",
        "uploaded = files.upload()"
      ],
      "execution_count": null,
      "outputs": [
        {
          "output_type": "display_data",
          "data": {
            "text/html": [
              "\n",
              "     <input type=\"file\" id=\"files-141ab7de-e12b-4940-94ca-d1ae4f9ffd80\" name=\"files[]\" multiple disabled />\n",
              "     <output id=\"result-141ab7de-e12b-4940-94ca-d1ae4f9ffd80\">\n",
              "      Upload widget is only available when the cell has been executed in the\n",
              "      current browser session. Please rerun this cell to enable.\n",
              "      </output>\n",
              "      <script src=\"/nbextensions/google.colab/files.js\"></script> "
            ],
            "text/plain": [
              "<IPython.core.display.HTML object>"
            ]
          },
          "metadata": {
            "tags": []
          }
        },
        {
          "output_type": "stream",
          "text": [
            "Saving regression_pls.csv to regression_pls.csv\n"
          ],
          "name": "stdout"
        }
      ]
    },
    {
      "cell_type": "code",
      "metadata": {
        "id": "uGPcypR-Grxn",
        "colab_type": "code",
        "colab": {
          "base_uri": "https://localhost:8080/",
          "height": 191
        },
        "outputId": "879f9c09-73b8-4c71-e4e6-5671afd88dee"
      },
      "source": [
        "df = pd.read_csv('regression_pls.csv')\n",
        "df.head(3)"
      ],
      "execution_count": null,
      "outputs": [
        {
          "output_type": "execute_result",
          "data": {
            "text/html": [
              "<div>\n",
              "<style scoped>\n",
              "    .dataframe tbody tr th:only-of-type {\n",
              "        vertical-align: middle;\n",
              "    }\n",
              "\n",
              "    .dataframe tbody tr th {\n",
              "        vertical-align: top;\n",
              "    }\n",
              "\n",
              "    .dataframe thead th {\n",
              "        text-align: right;\n",
              "    }\n",
              "</style>\n",
              "<table border=\"1\" class=\"dataframe\">\n",
              "  <thead>\n",
              "    <tr style=\"text-align: right;\">\n",
              "      <th></th>\n",
              "      <th>Target</th>\n",
              "      <th>x1</th>\n",
              "      <th>x2</th>\n",
              "      <th>x3</th>\n",
              "      <th>x4</th>\n",
              "      <th>x5</th>\n",
              "      <th>x6</th>\n",
              "      <th>x7</th>\n",
              "      <th>x8</th>\n",
              "      <th>x9</th>\n",
              "      <th>x10</th>\n",
              "      <th>x11</th>\n",
              "      <th>x12</th>\n",
              "      <th>x13</th>\n",
              "      <th>x14</th>\n",
              "      <th>x15</th>\n",
              "      <th>x16</th>\n",
              "      <th>x17</th>\n",
              "      <th>x18</th>\n",
              "      <th>x19</th>\n",
              "      <th>x20</th>\n",
              "      <th>x21</th>\n",
              "      <th>x22</th>\n",
              "      <th>x23</th>\n",
              "      <th>x24</th>\n",
              "      <th>x25</th>\n",
              "      <th>x26</th>\n",
              "      <th>x27</th>\n",
              "      <th>x28</th>\n",
              "      <th>x29</th>\n",
              "      <th>x30</th>\n",
              "      <th>x31</th>\n",
              "      <th>x32</th>\n",
              "      <th>x33</th>\n",
              "      <th>x34</th>\n",
              "      <th>x35</th>\n",
              "      <th>x36</th>\n",
              "      <th>x37</th>\n",
              "      <th>x38</th>\n",
              "      <th>x39</th>\n",
              "      <th>...</th>\n",
              "      <th>x157</th>\n",
              "      <th>x158</th>\n",
              "      <th>x159</th>\n",
              "      <th>x160</th>\n",
              "      <th>x161</th>\n",
              "      <th>x162</th>\n",
              "      <th>x163</th>\n",
              "      <th>x164</th>\n",
              "      <th>x165</th>\n",
              "      <th>x166</th>\n",
              "      <th>x167</th>\n",
              "      <th>x168</th>\n",
              "      <th>x169</th>\n",
              "      <th>x170</th>\n",
              "      <th>x171</th>\n",
              "      <th>x172</th>\n",
              "      <th>x173</th>\n",
              "      <th>x174</th>\n",
              "      <th>x175</th>\n",
              "      <th>x176</th>\n",
              "      <th>x177</th>\n",
              "      <th>x178</th>\n",
              "      <th>x179</th>\n",
              "      <th>x180</th>\n",
              "      <th>x181</th>\n",
              "      <th>x182</th>\n",
              "      <th>x183</th>\n",
              "      <th>x184</th>\n",
              "      <th>x185</th>\n",
              "      <th>x186</th>\n",
              "      <th>x187</th>\n",
              "      <th>x188</th>\n",
              "      <th>x189</th>\n",
              "      <th>x190</th>\n",
              "      <th>x191</th>\n",
              "      <th>x192</th>\n",
              "      <th>x193</th>\n",
              "      <th>x194</th>\n",
              "      <th>x195</th>\n",
              "      <th>x196</th>\n",
              "    </tr>\n",
              "  </thead>\n",
              "  <tbody>\n",
              "    <tr>\n",
              "      <th>0</th>\n",
              "      <td>1.58</td>\n",
              "      <td>59.068</td>\n",
              "      <td>54.028</td>\n",
              "      <td>59.037114</td>\n",
              "      <td>24</td>\n",
              "      <td>0</td>\n",
              "      <td>0.213790</td>\n",
              "      <td>-0.369921</td>\n",
              "      <td>0.369921</td>\n",
              "      <td>0.213790</td>\n",
              "      <td>9.222222</td>\n",
              "      <td>-0.333333</td>\n",
              "      <td>9.222222</td>\n",
              "      <td>0.333333</td>\n",
              "      <td>2.803039</td>\n",
              "      <td>29.019550</td>\n",
              "      <td>3.577350</td>\n",
              "      <td>2.485599</td>\n",
              "      <td>2.485599</td>\n",
              "      <td>1.732051</td>\n",
              "      <td>0.992799</td>\n",
              "      <td>0.992799</td>\n",
              "      <td>0.610650</td>\n",
              "      <td>0.610650</td>\n",
              "      <td>0.0</td>\n",
              "      <td>0.0</td>\n",
              "      <td>0.0</td>\n",
              "      <td>0.0</td>\n",
              "      <td>-0.53</td>\n",
              "      <td>3.245112</td>\n",
              "      <td>3.47</td>\n",
              "      <td>0.874858</td>\n",
              "      <td>1.156009</td>\n",
              "      <td>24.605606</td>\n",
              "      <td>5.733667</td>\n",
              "      <td>0.0</td>\n",
              "      <td>0.0</td>\n",
              "      <td>5.90718</td>\n",
              "      <td>0.000000</td>\n",
              "      <td>0.0</td>\n",
              "      <td>...</td>\n",
              "      <td>0</td>\n",
              "      <td>0</td>\n",
              "      <td>0</td>\n",
              "      <td>0</td>\n",
              "      <td>0</td>\n",
              "      <td>0</td>\n",
              "      <td>0</td>\n",
              "      <td>0</td>\n",
              "      <td>0</td>\n",
              "      <td>0</td>\n",
              "      <td>0</td>\n",
              "      <td>0</td>\n",
              "      <td>0</td>\n",
              "      <td>0</td>\n",
              "      <td>0</td>\n",
              "      <td>0</td>\n",
              "      <td>0</td>\n",
              "      <td>0</td>\n",
              "      <td>0</td>\n",
              "      <td>0</td>\n",
              "      <td>0</td>\n",
              "      <td>0</td>\n",
              "      <td>0</td>\n",
              "      <td>0</td>\n",
              "      <td>0</td>\n",
              "      <td>0</td>\n",
              "      <td>1</td>\n",
              "      <td>0</td>\n",
              "      <td>0</td>\n",
              "      <td>0</td>\n",
              "      <td>0</td>\n",
              "      <td>0</td>\n",
              "      <td>0</td>\n",
              "      <td>0</td>\n",
              "      <td>0</td>\n",
              "      <td>0</td>\n",
              "      <td>0</td>\n",
              "      <td>0</td>\n",
              "      <td>0</td>\n",
              "      <td>0</td>\n",
              "    </tr>\n",
              "    <tr>\n",
              "      <th>1</th>\n",
              "      <td>1.34</td>\n",
              "      <td>46.073</td>\n",
              "      <td>40.025</td>\n",
              "      <td>46.053098</td>\n",
              "      <td>20</td>\n",
              "      <td>0</td>\n",
              "      <td>-0.001725</td>\n",
              "      <td>-0.271722</td>\n",
              "      <td>0.271722</td>\n",
              "      <td>0.001725</td>\n",
              "      <td>4.597222</td>\n",
              "      <td>1.652778</td>\n",
              "      <td>4.597222</td>\n",
              "      <td>1.652778</td>\n",
              "      <td>1.632993</td>\n",
              "      <td>2.754888</td>\n",
              "      <td>2.707107</td>\n",
              "      <td>2.077350</td>\n",
              "      <td>2.077350</td>\n",
              "      <td>1.414214</td>\n",
              "      <td>0.788675</td>\n",
              "      <td>0.788675</td>\n",
              "      <td>0.288675</td>\n",
              "      <td>0.288675</td>\n",
              "      <td>0.0</td>\n",
              "      <td>0.0</td>\n",
              "      <td>0.0</td>\n",
              "      <td>0.0</td>\n",
              "      <td>-0.08</td>\n",
              "      <td>2.754888</td>\n",
              "      <td>2.92</td>\n",
              "      <td>1.920000</td>\n",
              "      <td>1.920000</td>\n",
              "      <td>19.599140</td>\n",
              "      <td>0.000000</td>\n",
              "      <td>0.0</td>\n",
              "      <td>0.0</td>\n",
              "      <td>0.00000</td>\n",
              "      <td>0.000000</td>\n",
              "      <td>0.0</td>\n",
              "      <td>...</td>\n",
              "      <td>1</td>\n",
              "      <td>0</td>\n",
              "      <td>0</td>\n",
              "      <td>0</td>\n",
              "      <td>0</td>\n",
              "      <td>0</td>\n",
              "      <td>0</td>\n",
              "      <td>0</td>\n",
              "      <td>0</td>\n",
              "      <td>0</td>\n",
              "      <td>0</td>\n",
              "      <td>0</td>\n",
              "      <td>0</td>\n",
              "      <td>0</td>\n",
              "      <td>0</td>\n",
              "      <td>0</td>\n",
              "      <td>0</td>\n",
              "      <td>0</td>\n",
              "      <td>0</td>\n",
              "      <td>0</td>\n",
              "      <td>0</td>\n",
              "      <td>0</td>\n",
              "      <td>0</td>\n",
              "      <td>0</td>\n",
              "      <td>0</td>\n",
              "      <td>0</td>\n",
              "      <td>0</td>\n",
              "      <td>0</td>\n",
              "      <td>0</td>\n",
              "      <td>0</td>\n",
              "      <td>0</td>\n",
              "      <td>0</td>\n",
              "      <td>0</td>\n",
              "      <td>0</td>\n",
              "      <td>0</td>\n",
              "      <td>0</td>\n",
              "      <td>0</td>\n",
              "      <td>0</td>\n",
              "      <td>0</td>\n",
              "      <td>0</td>\n",
              "    </tr>\n",
              "    <tr>\n",
              "      <th>2</th>\n",
              "      <td>1.22</td>\n",
              "      <td>60.052</td>\n",
              "      <td>56.020</td>\n",
              "      <td>60.021129</td>\n",
              "      <td>24</td>\n",
              "      <td>0</td>\n",
              "      <td>0.299685</td>\n",
              "      <td>-0.481433</td>\n",
              "      <td>0.481433</td>\n",
              "      <td>0.299685</td>\n",
              "      <td>9.000000</td>\n",
              "      <td>-0.833333</td>\n",
              "      <td>9.000000</td>\n",
              "      <td>0.833333</td>\n",
              "      <td>2.803039</td>\n",
              "      <td>27.019550</td>\n",
              "      <td>3.577350</td>\n",
              "      <td>2.355462</td>\n",
              "      <td>2.355462</td>\n",
              "      <td>1.732051</td>\n",
              "      <td>0.927731</td>\n",
              "      <td>0.927731</td>\n",
              "      <td>0.519018</td>\n",
              "      <td>0.519018</td>\n",
              "      <td>0.0</td>\n",
              "      <td>0.0</td>\n",
              "      <td>0.0</td>\n",
              "      <td>0.0</td>\n",
              "      <td>-0.53</td>\n",
              "      <td>3.245112</td>\n",
              "      <td>3.47</td>\n",
              "      <td>0.874858</td>\n",
              "      <td>1.156009</td>\n",
              "      <td>24.059949</td>\n",
              "      <td>5.106527</td>\n",
              "      <td>0.0</td>\n",
              "      <td>0.0</td>\n",
              "      <td>0.00000</td>\n",
              "      <td>5.969305</td>\n",
              "      <td>0.0</td>\n",
              "      <td>...</td>\n",
              "      <td>0</td>\n",
              "      <td>0</td>\n",
              "      <td>0</td>\n",
              "      <td>0</td>\n",
              "      <td>0</td>\n",
              "      <td>0</td>\n",
              "      <td>0</td>\n",
              "      <td>0</td>\n",
              "      <td>0</td>\n",
              "      <td>0</td>\n",
              "      <td>0</td>\n",
              "      <td>0</td>\n",
              "      <td>0</td>\n",
              "      <td>0</td>\n",
              "      <td>0</td>\n",
              "      <td>0</td>\n",
              "      <td>0</td>\n",
              "      <td>0</td>\n",
              "      <td>0</td>\n",
              "      <td>0</td>\n",
              "      <td>0</td>\n",
              "      <td>0</td>\n",
              "      <td>0</td>\n",
              "      <td>0</td>\n",
              "      <td>0</td>\n",
              "      <td>0</td>\n",
              "      <td>0</td>\n",
              "      <td>0</td>\n",
              "      <td>0</td>\n",
              "      <td>0</td>\n",
              "      <td>0</td>\n",
              "      <td>0</td>\n",
              "      <td>0</td>\n",
              "      <td>0</td>\n",
              "      <td>0</td>\n",
              "      <td>0</td>\n",
              "      <td>0</td>\n",
              "      <td>0</td>\n",
              "      <td>0</td>\n",
              "      <td>0</td>\n",
              "    </tr>\n",
              "  </tbody>\n",
              "</table>\n",
              "<p>3 rows × 197 columns</p>\n",
              "</div>"
            ],
            "text/plain": [
              "   Target      x1      x2         x3  x4  ...  x192  x193  x194  x195  x196\n",
              "0    1.58  59.068  54.028  59.037114  24  ...     0     0     0     0     0\n",
              "1    1.34  46.073  40.025  46.053098  20  ...     0     0     0     0     0\n",
              "2    1.22  60.052  56.020  60.021129  24  ...     0     0     0     0     0\n",
              "\n",
              "[3 rows x 197 columns]"
            ]
          },
          "metadata": {
            "tags": []
          },
          "execution_count": 31
        }
      ]
    },
    {
      "cell_type": "code",
      "metadata": {
        "id": "ZxczmQzKHBhT",
        "colab_type": "code",
        "colab": {
          "base_uri": "https://localhost:8080/",
          "height": 34
        },
        "outputId": "47be122c-45ec-45fd-c0d5-b622dad963e1"
      },
      "source": [
        "df.shape"
      ],
      "execution_count": null,
      "outputs": [
        {
          "output_type": "execute_result",
          "data": {
            "text/plain": [
              "(1290, 197)"
            ]
          },
          "metadata": {
            "tags": []
          },
          "execution_count": 32
        }
      ]
    },
    {
      "cell_type": "code",
      "metadata": {
        "id": "iiF1o_sRHGtA",
        "colab_type": "code",
        "colab": {
          "base_uri": "https://localhost:8080/",
          "height": 34
        },
        "outputId": "ff4b5fde-166e-4635-9cdc-a11421077343"
      },
      "source": [
        "# データの切り分け -> ndarrayに変換\n",
        "# 目的変数は y の列が該当し、その他の列が入力変数に該当\n",
        "x = df.drop('Target', axis=1).values\n",
        "t = df['Target'].values\n",
        "\n",
        "print(x.shape, t.shape)"
      ],
      "execution_count": null,
      "outputs": [
        {
          "output_type": "stream",
          "text": [
            "(1290, 196) (1290,)\n"
          ],
          "name": "stdout"
        }
      ]
    },
    {
      "cell_type": "code",
      "metadata": {
        "id": "S_RU8xRcH4ke",
        "colab_type": "code",
        "colab": {
          "base_uri": "https://localhost:8080/",
          "height": 34
        },
        "outputId": "5b17fb98-49ff-48d9-cb6e-03e4fc5fa0be"
      },
      "source": [
        "# 学習用データとテスト用の分割\n",
        "x_train, x_test, t_train, t_test = train_test_split(x, t, test_size=0.3, random_state=0)\n",
        "\n",
        "# モデルの定義\n",
        "from sklearn.linear_model import LinearRegression\n",
        "model = LinearRegression()\n",
        "\n",
        "# モデルの学習\n",
        "model.fit(x_train, t_train)"
      ],
      "execution_count": null,
      "outputs": [
        {
          "output_type": "execute_result",
          "data": {
            "text/plain": [
              "LinearRegression(copy_X=True, fit_intercept=True, n_jobs=None, normalize=False)"
            ]
          },
          "metadata": {
            "tags": []
          },
          "execution_count": 34
        }
      ]
    },
    {
      "cell_type": "code",
      "metadata": {
        "id": "ycHYtWQ_Hssq",
        "colab_type": "code",
        "colab": {
          "base_uri": "https://localhost:8080/",
          "height": 51
        },
        "outputId": "fa7ab4c9-b2e8-463f-9fc4-760415cd9052"
      },
      "source": [
        "# 検証\n",
        "print('tarin: ', model.score(x_train, t_train))\n",
        "print('test: ', model.score(x_test, t_test))"
      ],
      "execution_count": null,
      "outputs": [
        {
          "output_type": "stream",
          "text": [
            "tarin:  0.9365472506823411\n",
            "test:  0.003576724162620226\n"
          ],
          "name": "stdout"
        }
      ]
    },
    {
      "cell_type": "markdown",
      "metadata": {
        "id": "1bM2Gd25ICky",
        "colab_type": "text"
      },
      "source": [
        "今回は入力変数同士の相関が強いものが含まれており、多重共線性 (Multicollinearity) という問題が起こっているため"
      ]
    },
    {
      "cell_type": "code",
      "metadata": {
        "id": "XwMG39vkIy32",
        "colab_type": "code",
        "colab": {
          "base_uri": "https://localhost:8080/",
          "height": 253
        },
        "outputId": "dfb91f27-b153-4e46-8b79-1dff927ae4eb"
      },
      "source": [
        "# 相関関係の算出\n",
        "df_corr = df.corr()  # corr: 相関係数\n",
        "df_corr.head()"
      ],
      "execution_count": null,
      "outputs": [
        {
          "output_type": "execute_result",
          "data": {
            "text/html": [
              "<div>\n",
              "<style scoped>\n",
              "    .dataframe tbody tr th:only-of-type {\n",
              "        vertical-align: middle;\n",
              "    }\n",
              "\n",
              "    .dataframe tbody tr th {\n",
              "        vertical-align: top;\n",
              "    }\n",
              "\n",
              "    .dataframe thead th {\n",
              "        text-align: right;\n",
              "    }\n",
              "</style>\n",
              "<table border=\"1\" class=\"dataframe\">\n",
              "  <thead>\n",
              "    <tr style=\"text-align: right;\">\n",
              "      <th></th>\n",
              "      <th>Target</th>\n",
              "      <th>x1</th>\n",
              "      <th>x2</th>\n",
              "      <th>x3</th>\n",
              "      <th>x4</th>\n",
              "      <th>x5</th>\n",
              "      <th>x6</th>\n",
              "      <th>x7</th>\n",
              "      <th>x8</th>\n",
              "      <th>x9</th>\n",
              "      <th>x10</th>\n",
              "      <th>x11</th>\n",
              "      <th>x12</th>\n",
              "      <th>x13</th>\n",
              "      <th>x14</th>\n",
              "      <th>x15</th>\n",
              "      <th>x16</th>\n",
              "      <th>x17</th>\n",
              "      <th>x18</th>\n",
              "      <th>x19</th>\n",
              "      <th>x20</th>\n",
              "      <th>x21</th>\n",
              "      <th>x22</th>\n",
              "      <th>x23</th>\n",
              "      <th>x24</th>\n",
              "      <th>x25</th>\n",
              "      <th>x26</th>\n",
              "      <th>x27</th>\n",
              "      <th>x28</th>\n",
              "      <th>x29</th>\n",
              "      <th>x30</th>\n",
              "      <th>x31</th>\n",
              "      <th>x32</th>\n",
              "      <th>x33</th>\n",
              "      <th>x34</th>\n",
              "      <th>x35</th>\n",
              "      <th>x36</th>\n",
              "      <th>x37</th>\n",
              "      <th>x38</th>\n",
              "      <th>x39</th>\n",
              "      <th>...</th>\n",
              "      <th>x157</th>\n",
              "      <th>x158</th>\n",
              "      <th>x159</th>\n",
              "      <th>x160</th>\n",
              "      <th>x161</th>\n",
              "      <th>x162</th>\n",
              "      <th>x163</th>\n",
              "      <th>x164</th>\n",
              "      <th>x165</th>\n",
              "      <th>x166</th>\n",
              "      <th>x167</th>\n",
              "      <th>x168</th>\n",
              "      <th>x169</th>\n",
              "      <th>x170</th>\n",
              "      <th>x171</th>\n",
              "      <th>x172</th>\n",
              "      <th>x173</th>\n",
              "      <th>x174</th>\n",
              "      <th>x175</th>\n",
              "      <th>x176</th>\n",
              "      <th>x177</th>\n",
              "      <th>x178</th>\n",
              "      <th>x179</th>\n",
              "      <th>x180</th>\n",
              "      <th>x181</th>\n",
              "      <th>x182</th>\n",
              "      <th>x183</th>\n",
              "      <th>x184</th>\n",
              "      <th>x185</th>\n",
              "      <th>x186</th>\n",
              "      <th>x187</th>\n",
              "      <th>x188</th>\n",
              "      <th>x189</th>\n",
              "      <th>x190</th>\n",
              "      <th>x191</th>\n",
              "      <th>x192</th>\n",
              "      <th>x193</th>\n",
              "      <th>x194</th>\n",
              "      <th>x195</th>\n",
              "      <th>x196</th>\n",
              "    </tr>\n",
              "  </thead>\n",
              "  <tbody>\n",
              "    <tr>\n",
              "      <th>Target</th>\n",
              "      <td>1.000000</td>\n",
              "      <td>-0.642326</td>\n",
              "      <td>-0.648078</td>\n",
              "      <td>-0.640489</td>\n",
              "      <td>-0.524453</td>\n",
              "      <td>NaN</td>\n",
              "      <td>0.111829</td>\n",
              "      <td>-0.360696</td>\n",
              "      <td>0.357026</td>\n",
              "      <td>0.113189</td>\n",
              "      <td>0.120581</td>\n",
              "      <td>0.000857</td>\n",
              "      <td>0.120581</td>\n",
              "      <td>-0.041054</td>\n",
              "      <td>0.242124</td>\n",
              "      <td>-0.580994</td>\n",
              "      <td>-0.542549</td>\n",
              "      <td>-0.507630</td>\n",
              "      <td>-0.642483</td>\n",
              "      <td>-0.564949</td>\n",
              "      <td>-0.513403</td>\n",
              "      <td>-0.618307</td>\n",
              "      <td>-0.463702</td>\n",
              "      <td>-0.578392</td>\n",
              "      <td>-0.438530</td>\n",
              "      <td>-0.564784</td>\n",
              "      <td>-0.413814</td>\n",
              "      <td>-0.513309</td>\n",
              "      <td>0.094017</td>\n",
              "      <td>-0.006027</td>\n",
              "      <td>-0.545639</td>\n",
              "      <td>-0.443932</td>\n",
              "      <td>0.044308</td>\n",
              "      <td>-0.646469</td>\n",
              "      <td>0.154438</td>\n",
              "      <td>0.013626</td>\n",
              "      <td>-0.037061</td>\n",
              "      <td>0.006903</td>\n",
              "      <td>-0.005276</td>\n",
              "      <td>0.056936</td>\n",
              "      <td>...</td>\n",
              "      <td>0.042022</td>\n",
              "      <td>NaN</td>\n",
              "      <td>0.051129</td>\n",
              "      <td>0.040172</td>\n",
              "      <td>NaN</td>\n",
              "      <td>-0.025653</td>\n",
              "      <td>-0.072149</td>\n",
              "      <td>-0.037616</td>\n",
              "      <td>NaN</td>\n",
              "      <td>0.023078</td>\n",
              "      <td>0.032735</td>\n",
              "      <td>0.077361</td>\n",
              "      <td>0.016323</td>\n",
              "      <td>-0.040499</td>\n",
              "      <td>-0.057758</td>\n",
              "      <td>-0.008723</td>\n",
              "      <td>0.035584</td>\n",
              "      <td>0.018014</td>\n",
              "      <td>0.018190</td>\n",
              "      <td>0.005723</td>\n",
              "      <td>0.036773</td>\n",
              "      <td>0.031990</td>\n",
              "      <td>-0.007879</td>\n",
              "      <td>-0.007879</td>\n",
              "      <td>0.026783</td>\n",
              "      <td>0.009903</td>\n",
              "      <td>0.139720</td>\n",
              "      <td>NaN</td>\n",
              "      <td>0.077135</td>\n",
              "      <td>NaN</td>\n",
              "      <td>-0.032287</td>\n",
              "      <td>-0.015204</td>\n",
              "      <td>0.019244</td>\n",
              "      <td>-0.047169</td>\n",
              "      <td>NaN</td>\n",
              "      <td>0.007788</td>\n",
              "      <td>NaN</td>\n",
              "      <td>0.002448</td>\n",
              "      <td>-0.113820</td>\n",
              "      <td>0.043600</td>\n",
              "    </tr>\n",
              "    <tr>\n",
              "      <th>x1</th>\n",
              "      <td>-0.642326</td>\n",
              "      <td>1.000000</td>\n",
              "      <td>0.997571</td>\n",
              "      <td>0.999978</td>\n",
              "      <td>0.908895</td>\n",
              "      <td>NaN</td>\n",
              "      <td>0.322508</td>\n",
              "      <td>-0.117193</td>\n",
              "      <td>0.134074</td>\n",
              "      <td>0.298204</td>\n",
              "      <td>0.378471</td>\n",
              "      <td>-0.446958</td>\n",
              "      <td>0.378471</td>\n",
              "      <td>-0.325579</td>\n",
              "      <td>-0.379325</td>\n",
              "      <td>0.826032</td>\n",
              "      <td>0.917214</td>\n",
              "      <td>0.839511</td>\n",
              "      <td>0.958681</td>\n",
              "      <td>0.897730</td>\n",
              "      <td>0.806413</td>\n",
              "      <td>0.920030</td>\n",
              "      <td>0.769137</td>\n",
              "      <td>0.891201</td>\n",
              "      <td>0.727455</td>\n",
              "      <td>0.849144</td>\n",
              "      <td>0.691114</td>\n",
              "      <td>0.791774</td>\n",
              "      <td>-0.273404</td>\n",
              "      <td>0.141811</td>\n",
              "      <td>0.919389</td>\n",
              "      <td>0.625024</td>\n",
              "      <td>-0.036254</td>\n",
              "      <td>0.963424</td>\n",
              "      <td>0.404151</td>\n",
              "      <td>0.374632</td>\n",
              "      <td>0.336265</td>\n",
              "      <td>0.236017</td>\n",
              "      <td>0.190516</td>\n",
              "      <td>0.173351</td>\n",
              "      <td>...</td>\n",
              "      <td>-0.002709</td>\n",
              "      <td>NaN</td>\n",
              "      <td>-0.000935</td>\n",
              "      <td>0.026399</td>\n",
              "      <td>NaN</td>\n",
              "      <td>-0.003994</td>\n",
              "      <td>0.281489</td>\n",
              "      <td>0.223386</td>\n",
              "      <td>NaN</td>\n",
              "      <td>0.063059</td>\n",
              "      <td>0.092263</td>\n",
              "      <td>-0.017745</td>\n",
              "      <td>0.012475</td>\n",
              "      <td>0.040538</td>\n",
              "      <td>0.057492</td>\n",
              "      <td>0.008293</td>\n",
              "      <td>-0.038473</td>\n",
              "      <td>-0.002359</td>\n",
              "      <td>0.003260</td>\n",
              "      <td>0.040122</td>\n",
              "      <td>0.058011</td>\n",
              "      <td>0.057891</td>\n",
              "      <td>0.041460</td>\n",
              "      <td>0.041460</td>\n",
              "      <td>0.113452</td>\n",
              "      <td>0.091384</td>\n",
              "      <td>-0.051005</td>\n",
              "      <td>NaN</td>\n",
              "      <td>-0.018761</td>\n",
              "      <td>NaN</td>\n",
              "      <td>0.051291</td>\n",
              "      <td>0.186110</td>\n",
              "      <td>0.027947</td>\n",
              "      <td>-0.002219</td>\n",
              "      <td>NaN</td>\n",
              "      <td>0.001304</td>\n",
              "      <td>NaN</td>\n",
              "      <td>-0.015226</td>\n",
              "      <td>-0.038657</td>\n",
              "      <td>0.027857</td>\n",
              "    </tr>\n",
              "    <tr>\n",
              "      <th>x2</th>\n",
              "      <td>-0.648078</td>\n",
              "      <td>0.997571</td>\n",
              "      <td>1.000000</td>\n",
              "      <td>0.997252</td>\n",
              "      <td>0.883891</td>\n",
              "      <td>NaN</td>\n",
              "      <td>0.322631</td>\n",
              "      <td>-0.097297</td>\n",
              "      <td>0.115794</td>\n",
              "      <td>0.294947</td>\n",
              "      <td>0.363786</td>\n",
              "      <td>-0.450551</td>\n",
              "      <td>0.363786</td>\n",
              "      <td>-0.319195</td>\n",
              "      <td>-0.357903</td>\n",
              "      <td>0.824275</td>\n",
              "      <td>0.896737</td>\n",
              "      <td>0.804689</td>\n",
              "      <td>0.939308</td>\n",
              "      <td>0.876898</td>\n",
              "      <td>0.768288</td>\n",
              "      <td>0.895849</td>\n",
              "      <td>0.730398</td>\n",
              "      <td>0.870423</td>\n",
              "      <td>0.690865</td>\n",
              "      <td>0.828501</td>\n",
              "      <td>0.655833</td>\n",
              "      <td>0.768028</td>\n",
              "      <td>-0.262938</td>\n",
              "      <td>0.135670</td>\n",
              "      <td>0.896056</td>\n",
              "      <td>0.593068</td>\n",
              "      <td>-0.038111</td>\n",
              "      <td>0.949110</td>\n",
              "      <td>0.384875</td>\n",
              "      <td>0.372437</td>\n",
              "      <td>0.331094</td>\n",
              "      <td>0.236464</td>\n",
              "      <td>0.197357</td>\n",
              "      <td>0.169223</td>\n",
              "      <td>...</td>\n",
              "      <td>-0.003175</td>\n",
              "      <td>NaN</td>\n",
              "      <td>0.001846</td>\n",
              "      <td>0.028212</td>\n",
              "      <td>NaN</td>\n",
              "      <td>-0.002583</td>\n",
              "      <td>0.261522</td>\n",
              "      <td>0.206505</td>\n",
              "      <td>NaN</td>\n",
              "      <td>0.062154</td>\n",
              "      <td>0.089649</td>\n",
              "      <td>-0.019194</td>\n",
              "      <td>0.017884</td>\n",
              "      <td>0.047381</td>\n",
              "      <td>0.063376</td>\n",
              "      <td>0.014535</td>\n",
              "      <td>-0.037313</td>\n",
              "      <td>-0.001110</td>\n",
              "      <td>0.003772</td>\n",
              "      <td>0.039323</td>\n",
              "      <td>0.062766</td>\n",
              "      <td>0.062354</td>\n",
              "      <td>0.040349</td>\n",
              "      <td>0.040349</td>\n",
              "      <td>0.103111</td>\n",
              "      <td>0.088279</td>\n",
              "      <td>-0.050473</td>\n",
              "      <td>NaN</td>\n",
              "      <td>-0.016456</td>\n",
              "      <td>NaN</td>\n",
              "      <td>0.047416</td>\n",
              "      <td>0.191792</td>\n",
              "      <td>0.029659</td>\n",
              "      <td>-0.007914</td>\n",
              "      <td>NaN</td>\n",
              "      <td>0.005912</td>\n",
              "      <td>NaN</td>\n",
              "      <td>-0.015106</td>\n",
              "      <td>-0.062823</td>\n",
              "      <td>0.027773</td>\n",
              "    </tr>\n",
              "    <tr>\n",
              "      <th>x3</th>\n",
              "      <td>-0.640489</td>\n",
              "      <td>0.999978</td>\n",
              "      <td>0.997252</td>\n",
              "      <td>1.000000</td>\n",
              "      <td>0.910855</td>\n",
              "      <td>NaN</td>\n",
              "      <td>0.324352</td>\n",
              "      <td>-0.120477</td>\n",
              "      <td>0.137237</td>\n",
              "      <td>0.300415</td>\n",
              "      <td>0.380881</td>\n",
              "      <td>-0.448158</td>\n",
              "      <td>0.380881</td>\n",
              "      <td>-0.326151</td>\n",
              "      <td>-0.380865</td>\n",
              "      <td>0.827493</td>\n",
              "      <td>0.919039</td>\n",
              "      <td>0.842162</td>\n",
              "      <td>0.959551</td>\n",
              "      <td>0.899754</td>\n",
              "      <td>0.809110</td>\n",
              "      <td>0.921333</td>\n",
              "      <td>0.771673</td>\n",
              "      <td>0.891888</td>\n",
              "      <td>0.729801</td>\n",
              "      <td>0.849932</td>\n",
              "      <td>0.693339</td>\n",
              "      <td>0.792980</td>\n",
              "      <td>-0.277540</td>\n",
              "      <td>0.142260</td>\n",
              "      <td>0.920606</td>\n",
              "      <td>0.626088</td>\n",
              "      <td>-0.036321</td>\n",
              "      <td>0.964277</td>\n",
              "      <td>0.406880</td>\n",
              "      <td>0.375913</td>\n",
              "      <td>0.337577</td>\n",
              "      <td>0.236775</td>\n",
              "      <td>0.191539</td>\n",
              "      <td>0.174963</td>\n",
              "      <td>...</td>\n",
              "      <td>-0.002421</td>\n",
              "      <td>NaN</td>\n",
              "      <td>-0.000600</td>\n",
              "      <td>0.026821</td>\n",
              "      <td>NaN</td>\n",
              "      <td>-0.003942</td>\n",
              "      <td>0.282915</td>\n",
              "      <td>0.224573</td>\n",
              "      <td>NaN</td>\n",
              "      <td>0.063426</td>\n",
              "      <td>0.092957</td>\n",
              "      <td>-0.017632</td>\n",
              "      <td>0.012337</td>\n",
              "      <td>0.040995</td>\n",
              "      <td>0.057908</td>\n",
              "      <td>0.008511</td>\n",
              "      <td>-0.038380</td>\n",
              "      <td>-0.002252</td>\n",
              "      <td>0.003341</td>\n",
              "      <td>0.041033</td>\n",
              "      <td>0.058610</td>\n",
              "      <td>0.058458</td>\n",
              "      <td>0.041700</td>\n",
              "      <td>0.041700</td>\n",
              "      <td>0.114118</td>\n",
              "      <td>0.091509</td>\n",
              "      <td>-0.050671</td>\n",
              "      <td>NaN</td>\n",
              "      <td>-0.018359</td>\n",
              "      <td>NaN</td>\n",
              "      <td>0.051542</td>\n",
              "      <td>0.186772</td>\n",
              "      <td>0.028046</td>\n",
              "      <td>-0.002001</td>\n",
              "      <td>NaN</td>\n",
              "      <td>0.001447</td>\n",
              "      <td>NaN</td>\n",
              "      <td>-0.015093</td>\n",
              "      <td>-0.038138</td>\n",
              "      <td>0.028359</td>\n",
              "    </tr>\n",
              "    <tr>\n",
              "      <th>x4</th>\n",
              "      <td>-0.524453</td>\n",
              "      <td>0.908895</td>\n",
              "      <td>0.883891</td>\n",
              "      <td>0.910855</td>\n",
              "      <td>1.000000</td>\n",
              "      <td>NaN</td>\n",
              "      <td>0.385792</td>\n",
              "      <td>-0.284647</td>\n",
              "      <td>0.293981</td>\n",
              "      <td>0.382603</td>\n",
              "      <td>0.506428</td>\n",
              "      <td>-0.469375</td>\n",
              "      <td>0.506428</td>\n",
              "      <td>-0.377003</td>\n",
              "      <td>-0.457913</td>\n",
              "      <td>0.857233</td>\n",
              "      <td>0.995378</td>\n",
              "      <td>0.979624</td>\n",
              "      <td>0.967419</td>\n",
              "      <td>0.985270</td>\n",
              "      <td>0.957137</td>\n",
              "      <td>0.950796</td>\n",
              "      <td>0.918905</td>\n",
              "      <td>0.888135</td>\n",
              "      <td>0.867811</td>\n",
              "      <td>0.856348</td>\n",
              "      <td>0.824709</td>\n",
              "      <td>0.826199</td>\n",
              "      <td>-0.487143</td>\n",
              "      <td>0.166676</td>\n",
              "      <td>0.968324</td>\n",
              "      <td>0.683917</td>\n",
              "      <td>-0.033967</td>\n",
              "      <td>0.974761</td>\n",
              "      <td>0.530507</td>\n",
              "      <td>0.418144</td>\n",
              "      <td>0.396599</td>\n",
              "      <td>0.252044</td>\n",
              "      <td>0.206133</td>\n",
              "      <td>0.242561</td>\n",
              "      <td>...</td>\n",
              "      <td>0.012716</td>\n",
              "      <td>NaN</td>\n",
              "      <td>0.012394</td>\n",
              "      <td>0.046139</td>\n",
              "      <td>NaN</td>\n",
              "      <td>-0.007132</td>\n",
              "      <td>0.371815</td>\n",
              "      <td>0.301336</td>\n",
              "      <td>NaN</td>\n",
              "      <td>0.080538</td>\n",
              "      <td>0.131901</td>\n",
              "      <td>-0.007529</td>\n",
              "      <td>-0.014482</td>\n",
              "      <td>0.053670</td>\n",
              "      <td>0.068658</td>\n",
              "      <td>0.011211</td>\n",
              "      <td>-0.031869</td>\n",
              "      <td>-0.000622</td>\n",
              "      <td>0.006972</td>\n",
              "      <td>0.078303</td>\n",
              "      <td>0.063193</td>\n",
              "      <td>0.066277</td>\n",
              "      <td>0.046719</td>\n",
              "      <td>0.046719</td>\n",
              "      <td>0.154646</td>\n",
              "      <td>0.097796</td>\n",
              "      <td>-0.026376</td>\n",
              "      <td>NaN</td>\n",
              "      <td>-0.001114</td>\n",
              "      <td>NaN</td>\n",
              "      <td>0.044125</td>\n",
              "      <td>0.174983</td>\n",
              "      <td>0.022996</td>\n",
              "      <td>0.018780</td>\n",
              "      <td>NaN</td>\n",
              "      <td>-0.010834</td>\n",
              "      <td>NaN</td>\n",
              "      <td>-0.016378</td>\n",
              "      <td>0.027813</td>\n",
              "      <td>0.055553</td>\n",
              "    </tr>\n",
              "  </tbody>\n",
              "</table>\n",
              "<p>5 rows × 197 columns</p>\n",
              "</div>"
            ],
            "text/plain": [
              "          Target        x1        x2  ...      x194      x195      x196\n",
              "Target  1.000000 -0.642326 -0.648078  ...  0.002448 -0.113820  0.043600\n",
              "x1     -0.642326  1.000000  0.997571  ... -0.015226 -0.038657  0.027857\n",
              "x2     -0.648078  0.997571  1.000000  ... -0.015106 -0.062823  0.027773\n",
              "x3     -0.640489  0.999978  0.997252  ... -0.015093 -0.038138  0.028359\n",
              "x4     -0.524453  0.908895  0.883891  ... -0.016378  0.027813  0.055553\n",
              "\n",
              "[5 rows x 197 columns]"
            ]
          },
          "metadata": {
            "tags": []
          },
          "execution_count": 36
        }
      ]
    },
    {
      "cell_type": "code",
      "metadata": {
        "id": "bhIHEu4zJRxS",
        "colab_type": "code",
        "colab": {
          "base_uri": "https://localhost:8080/",
          "height": 469
        },
        "outputId": "2ebca5f8-1430-4490-e5cc-a98f43195355"
      },
      "source": [
        "# 上をHeatmap化\n",
        "plt.figure(figsize=(12, 8))\n",
        "sns.heatmap(df_corr.iloc[:20, :20], annot=True)"
      ],
      "execution_count": null,
      "outputs": [
        {
          "output_type": "execute_result",
          "data": {
            "text/plain": [
              "<matplotlib.axes._subplots.AxesSubplot at 0x7f9a57febe48>"
            ]
          },
          "metadata": {
            "tags": []
          },
          "execution_count": 37
        },
        {
          "output_type": "display_data",
          "data": {
            "image/png": "[encoded data removed]",
            "text/plain": [
              "<Figure size 864x576 with 2 Axes>"
            ]
          },
          "metadata": {
            "tags": [],
            "needs_background": "light"
          }
        }
      ]
    },
    {
      "cell_type": "code",
      "metadata": {
        "id": "UPwbA7u5J6gR",
        "colab_type": "code",
        "colab": {
          "base_uri": "https://localhost:8080/",
          "height": 458
        },
        "outputId": "d90458e1-e68f-4e7a-b88d-db9e3090fe88"
      },
      "source": [
        "sns.jointplot(x='x1', y='x16', data=df)"
      ],
      "execution_count": null,
      "outputs": [
        {
          "output_type": "execute_result",
          "data": {
            "text/plain": [
              "<seaborn.axisgrid.JointGrid at 0x7f9a543fafd0>"
            ]
          },
          "metadata": {
            "tags": []
          },
          "execution_count": 38
        },
        {
          "output_type": "display_data",
          "data": {
            "image/png": "[encoded data removed]",
            "text/plain": [
              "<Figure size 432x432 with 3 Axes>"
            ]
          },
          "metadata": {
            "tags": [],
            "needs_background": "light"
          }
        }
      ]
    },
    {
      "cell_type": "markdown",
      "metadata": {
        "id": "KoDNr4n8IqcK",
        "colab_type": "text"
      },
      "source": [
        "単純に相関の高い入力変数をデータセットから地道に取り除くアプローチも考えられるが、今回はモデル側でこの問題を解決できないか試す。"
      ]
    },
    {
      "cell_type": "markdown",
      "metadata": {
        "id": "hvb7jYP0Jg8s",
        "colab_type": "text"
      },
      "source": [
        "Partial Least Squares (PLS)"
      ]
    },
    {
      "cell_type": "markdown",
      "metadata": {
        "id": "WZI0idwcJsM6",
        "colab_type": "text"
      },
      "source": [
        "1. 入力値と目標値の共分散が最大になるように主成分を抽出\n",
        "\n",
        "2. 抽出された主成分に対して重回帰分析を用いてモデルの学習を行う\n"
      ]
    },
    {
      "cell_type": "markdown",
      "metadata": {
        "id": "0RJuW_klJ2ML",
        "colab_type": "text"
      },
      "source": [
        "教師なし学習で紹介する主成分分析と似た概念<br>\n",
        "主成分分析：　100 個の特徴量があった場合にその特徴量の数を分散を用いて 10 や 20 個などに削減する手法（次元削減）<br>\n",
        "PLS との違いは教師あり学習と教師なし学習で、主成分を抽出するときに目標値の情報を使うか使わないか"
      ]
    },
    {
      "cell_type": "code",
      "metadata": {
        "id": "2NFx4Bq-KN0L",
        "colab_type": "code",
        "colab": {}
      },
      "source": [
        "# モデルの定義　(n_components:7)\n",
        "from sklearn.cross_decomposition import PLSRegression\n",
        "pls = PLSRegression(n_components=7)"
      ],
      "execution_count": null,
      "outputs": []
    },
    {
      "cell_type": "code",
      "metadata": {
        "id": "-rMxA-o0K9Vj",
        "colab_type": "code",
        "colab": {
          "base_uri": "https://localhost:8080/",
          "height": 34
        },
        "outputId": "9745b634-05ba-4a44-e8fb-f39949cdc5c1"
      },
      "source": [
        "# モデルの学習\n",
        "pls.fit(x_train, t_train)"
      ],
      "execution_count": null,
      "outputs": [
        {
          "output_type": "execute_result",
          "data": {
            "text/plain": [
              "PLSRegression(copy=True, max_iter=500, n_components=7, scale=True, tol=1e-06)"
            ]
          },
          "metadata": {
            "tags": []
          },
          "execution_count": 40
        }
      ]
    },
    {
      "cell_type": "code",
      "metadata": {
        "id": "k-BuutlrLD6M",
        "colab_type": "code",
        "colab": {
          "base_uri": "https://localhost:8080/",
          "height": 51
        },
        "outputId": "213ebb56-7086-40e6-9f66-945ed3682387"
      },
      "source": [
        "# モデルの検証\n",
        "print('train score: ', pls.score(x_train, t_train))\n",
        "print('test score: ', pls.score(x_test, t_test))"
      ],
      "execution_count": null,
      "outputs": [
        {
          "output_type": "stream",
          "text": [
            "train score:  0.906376310202351\n",
            "test score:  0.738728147180732\n"
          ],
          "name": "stdout"
        }
      ]
    },
    {
      "cell_type": "code",
      "metadata": {
        "id": "q8QGsxJELX25",
        "colab_type": "code",
        "colab": {}
      },
      "source": [
        ""
      ],
      "execution_count": null,
      "outputs": []
    },
    {
      "cell_type": "markdown",
      "metadata": {
        "id": "pjQl30nYLx_G",
        "colab_type": "text"
      },
      "source": [
        ""
      ]
    }
  ]
}